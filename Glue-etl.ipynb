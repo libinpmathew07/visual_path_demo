{
 "cells": [
  {
   "cell_type": "code",
   "execution_count": null,
   "id": "dc54d980-4cfc-4b65-a2a5-52219dd06353",
   "metadata": {},
   "outputs": [],
   "source": [
    "# Lambda to start the glue job"
   ]
  },
  {
   "cell_type": "code",
   "execution_count": null,
   "id": "f8774824-1276-4fc4-9c1e-89dad08f77da",
   "metadata": {},
   "outputs": [],
   "source": [
    "import boto3\n",
    "\n",
    "glue_client = boto3.client('glue')\n",
    "\n",
    "response = glue_client.start_job_run(\n",
    "    JobName='your_glue_job_name',\n",
    "    Arguments={\n",
    "        '--JOB_NAME': 'your_glue_job_name',\n",
    "        '--INPUT_PATH': 's3://your-bucket/path/to/your/file.csv',\n",
    "        '--OUTPUT_PATH': 's3://your-bucket/path/to/output/',\n",
    "        '--ARCHIVE_PATH': 's3://your-bucket/path/to/archive/',\n",
    "        '--ERROR_PATH': 's3://your-bucket/path/to/error/'\n",
    "    }\n",
    ")\n"
   ]
  },
  {
   "cell_type": "code",
   "execution_count": null,
   "id": "b1054137-482f-4921-9257-93f53e58bcfe",
   "metadata": {},
   "outputs": [],
   "source": [
    "# Glue job"
   ]
  },
  {
   "cell_type": "code",
   "execution_count": null,
   "id": "a7f74127-4cc9-4795-a426-5b581a0189f2",
   "metadata": {},
   "outputs": [],
   "source": [
    "import sys\n",
    "import boto3\n",
    "from awsglue.transforms import *\n",
    "from awsglue.utils import getResolvedOptions\n",
    "from pyspark.context import SparkContext\n",
    "from awsglue.context import GlueContext\n",
    "from awsglue.job import Job\n",
    "\n",
    "# Retrieve parameters\n",
    "args = getResolvedOptions(sys.argv, ['JOB_NAME', 'INPUT_PATH', 'OUTPUT_PATH', 'ARCHIVE_PATH', 'ERROR_PATH'])\n",
    "\n",
    "# Initialize clients and context\n",
    "s3_client = boto3.client('s3')\n",
    "sc = SparkContext()\n",
    "glueContext = GlueContext(sc)\n",
    "spark = glueContext.spark_session\n",
    "job = Job(glueContext)\n",
    "job.init(args['JOB_NAME'], args)\n",
    "\n",
    "try:\n",
    "    # Read CSV into DataFrame\n",
    "    df = spark.read.options(header=True, inferSchema=True).csv(args['INPUT_PATH'])\n",
    "    \n",
    "    # Filter DataFrame for specific make\n",
    "    df_by_make = df.filter(df['make'] == 'PORSCHE')\n",
    "    \n",
    "    # Write filtered DataFrame to Parquet\n",
    "    df_by_make.write.mode('overwrite').parquet(args['OUTPUT_PATH'])\n",
    "\n",
    "    # Archive the original CSV file\n",
    "    s3_client.copy_object(\n",
    "        Bucket=args['ARCHIVE_PATH'].split('/')[2],  # Extract bucket name from the path\n",
    "        CopySource={'Bucket': args['ARCHIVE_PATH'].split('/')[2], \n",
    "                    'Key': args['ARCHIVE_PATH'].split('/', 3)[-1]},  # Extract the key from the path\n",
    "        Key=args['ARCHIVE_PATH'].split('/', 3)[-1]  # Archive path\n",
    "    )\n",
    "\n",
    "    # Delete the original CSV file\n",
    "    s3_client.delete_object(Bucket=args['INPUT_PATH'].split('/')[2], Key=args['INPUT_PATH'].split('/', 3)[-1])\n",
    "\n",
    "except Exception as e:\n",
    "    # Log the error (optional)\n",
    "    print(f\"An error occurred: {str(e)}\")\n",
    "\n",
    "    # Archive the original CSV file in the error directory\n",
    "    s3_client.copy_object(\n",
    "        Bucket=args['ERROR_PATH'].split('/')[2],  # Extract bucket name from the path\n",
    "        CopySource={'Bucket': args['ERROR_PATH'].split('/')[2], \n",
    "                    'Key': args['ERROR_PATH'].split('/', 3)[-1]},  # Extract the key from the path\n",
    "        Key=args['ERROR_PATH'].split('/', 3)[-1]  # Error path\n",
    "    )\n",
    "\n",
    "    # Delete the original CSV file in case of an error\n",
    "    s3_client.delete_object(Bucket=args['INPUT_PATH'].split('/')[2], Key=args['INPUT_PATH'].split('/', 3)[-1])\n",
    "\n",
    "finally:\n",
    "    # Commit the Glue job\n",
    "    job.commit()\n"
   ]
  }
 ],
 "metadata": {
  "kernelspec": {
   "display_name": "Python 3 (ipykernel)",
   "language": "python",
   "name": "python3"
  },
  "language_info": {
   "codemirror_mode": {
    "name": "ipython",
    "version": 3
   },
   "file_extension": ".py",
   "mimetype": "text/x-python",
   "name": "python",
   "nbconvert_exporter": "python",
   "pygments_lexer": "ipython3",
   "version": "3.11.9"
  }
 },
 "nbformat": 4,
 "nbformat_minor": 5
}
