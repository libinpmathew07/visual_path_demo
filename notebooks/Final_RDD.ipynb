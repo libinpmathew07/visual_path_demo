{
 "cells": [
  {
   "cell_type": "code",
   "execution_count": 0,
   "metadata": {
    "application/vnd.databricks.v1+cell": {
     "cellMetadata": {},
     "inputWidgets": {},
     "nuid": "4540e7ad-5847-4de9-94c8-830bf886f124",
     "showTitle": false,
     "title": ""
    }
   },
   "outputs": [],
   "source": [
    "#Creating a RDD"
   ]
  },
  {
   "cell_type": "code",
   "execution_count": 0,
   "metadata": {
    "application/vnd.databricks.v1+cell": {
     "cellMetadata": {},
     "inputWidgets": {},
     "nuid": "6961df80-45a2-4000-8cc2-c7e14be103a9",
     "showTitle": false,
     "title": ""
    }
   },
   "outputs": [],
   "source": [
    "from pyspark import SparkConf,SparkContext\n",
    "conf=SparkConf().setAppName('RDD')\n"
   ]
  },
  {
   "cell_type": "code",
   "execution_count": 0,
   "metadata": {
    "application/vnd.databricks.v1+cell": {
     "cellMetadata": {},
     "inputWidgets": {},
     "nuid": "422b7959-7ca4-4925-84c5-2619b7f8cb76",
     "showTitle": false,
     "title": ""
    }
   },
   "outputs": [],
   "source": [
    "sc=SparkContext.getOrCreate(conf=conf)"
   ]
  },
  {
   "cell_type": "code",
   "execution_count": 0,
   "metadata": {
    "application/vnd.databricks.v1+cell": {
     "cellMetadata": {},
     "inputWidgets": {},
     "nuid": "64bbab79-6610-4897-a3a8-b08d6261b62b",
     "showTitle": false,
     "title": ""
    }
   },
   "outputs": [],
   "source": [
    "rdd=sc.textFile('/FileStore/tables/sample.txt')"
   ]
  },
  {
   "cell_type": "code",
   "execution_count": 0,
   "metadata": {
    "application/vnd.databricks.v1+cell": {
     "cellMetadata": {},
     "inputWidgets": {},
     "nuid": "b90ac3f7-b9e3-4317-83fc-dae9ab82dc53",
     "showTitle": false,
     "title": ""
    }
   },
   "outputs": [
    {
     "output_type": "stream",
     "name": "stdout",
     "output_type": "stream",
     "text": [
      "Out[7]: ['1 2 3 4 5', '3 4 5 66 77', '12 43 6 7 8', '12 12 33']"
     ]
    }
   ],
   "source": [
    "rdd.collect()"
   ]
  },
  {
   "cell_type": "code",
   "execution_count": 0,
   "metadata": {
    "application/vnd.databricks.v1+cell": {
     "cellMetadata": {},
     "inputWidgets": {},
     "nuid": "4dd1e295-6c07-42d2-b422-d5b1ad523fb0",
     "showTitle": false,
     "title": ""
    }
   },
   "outputs": [],
   "source": [
    "''' Transformations in RDD\n",
    "\n",
    "1.map\n",
    "2.flatMap\n",
    "3.distinct\n",
    "4.filter\n",
    "5.groupByKey\n",
    "6.reduceByKey\n",
    "7.repartition\n",
    "8.coleasce \n",
    "\n",
    "Actions in RDD\n",
    "\n",
    "1.collect\n",
    "2.count\n",
    "\n",
    "'''"
   ]
  },
  {
   "cell_type": "code",
   "execution_count": 0,
   "metadata": {
    "application/vnd.databricks.v1+cell": {
     "cellMetadata": {},
     "inputWidgets": {},
     "nuid": "13c55947-94ed-458f-9dcd-3814afc52f80",
     "showTitle": false,
     "title": ""
    }
   },
   "outputs": [],
   "source": [
    "rdd1=rdd.map(lambda x: x.split(' ')).map(lambda x: [int(x[0]),int(x[1]),int(x[2])])"
   ]
  },
  {
   "cell_type": "code",
   "execution_count": 0,
   "metadata": {
    "application/vnd.databricks.v1+cell": {
     "cellMetadata": {},
     "inputWidgets": {},
     "nuid": "904c2142-0c11-4b22-9d84-51afc6cb2676",
     "showTitle": false,
     "title": ""
    }
   },
   "outputs": [
    {
     "output_type": "stream",
     "name": "stdout",
     "output_type": "stream",
     "text": [
      "Out[25]: [[1, 2, 3], [3, 4, 5], [12, 43, 6], [12, 12, 33]]"
     ]
    }
   ],
   "source": [
    "rdd1.collect()"
   ]
  },
  {
   "cell_type": "code",
   "execution_count": 0,
   "metadata": {
    "application/vnd.databricks.v1+cell": {
     "cellMetadata": {},
     "inputWidgets": {},
     "nuid": "4daeaa4b-91ef-407a-ae83-913406071896",
     "showTitle": false,
     "title": ""
    }
   },
   "outputs": [],
   "source": [
    "rdd2=rdd1.flatMap(lambda x: (x[1],x[2]))"
   ]
  },
  {
   "cell_type": "code",
   "execution_count": 0,
   "metadata": {
    "application/vnd.databricks.v1+cell": {
     "cellMetadata": {},
     "inputWidgets": {},
     "nuid": "2f5ba71f-410b-45f2-913a-e456aaa405ee",
     "showTitle": false,
     "title": ""
    }
   },
   "outputs": [
    {
     "output_type": "stream",
     "name": "stdout",
     "output_type": "stream",
     "text": [
      "Out[34]: [2, 3, 4, 5, 43, 6, 12, 33]"
     ]
    }
   ],
   "source": [
    "rdd2.collect()"
   ]
  },
  {
   "cell_type": "code",
   "execution_count": 0,
   "metadata": {
    "application/vnd.databricks.v1+cell": {
     "cellMetadata": {},
     "inputWidgets": {},
     "nuid": "67818605-a723-4792-ad14-dbf3cf2d7a55",
     "showTitle": false,
     "title": ""
    }
   },
   "outputs": [],
   "source": [
    "rdd3=rdd2.filter(lambda x:x!=4)"
   ]
  },
  {
   "cell_type": "code",
   "execution_count": 0,
   "metadata": {
    "application/vnd.databricks.v1+cell": {
     "cellMetadata": {},
     "inputWidgets": {},
     "nuid": "4133ca35-e627-44e4-8a81-78e113eec35a",
     "showTitle": false,
     "title": ""
    }
   },
   "outputs": [
    {
     "output_type": "stream",
     "name": "stdout",
     "output_type": "stream",
     "text": [
      "Out[37]: [2, 3, 5, 43, 6, 12, 33]"
     ]
    }
   ],
   "source": [
    "rdd3.collect()"
   ]
  },
  {
   "cell_type": "code",
   "execution_count": 0,
   "metadata": {
    "application/vnd.databricks.v1+cell": {
     "cellMetadata": {},
     "inputWidgets": {},
     "nuid": "9566a49a-1e3d-4e27-b41e-06516cd5af15",
     "showTitle": false,
     "title": ""
    }
   },
   "outputs": [],
   "source": [
    "def even_number(x):\n",
    "  if x%2==0:\n",
    "    return True\n",
    "  else:\n",
    "    return False"
   ]
  },
  {
   "cell_type": "code",
   "execution_count": 0,
   "metadata": {
    "application/vnd.databricks.v1+cell": {
     "cellMetadata": {},
     "inputWidgets": {},
     "nuid": "55b9ac7a-7c1e-4487-9861-b26612cf5eab",
     "showTitle": false,
     "title": ""
    }
   },
   "outputs": [
    {
     "output_type": "stream",
     "name": "stdout",
     "output_type": "stream",
     "text": [
      "Out[40]: [2, 6, 12]"
     ]
    }
   ],
   "source": [
    "rdd3.filter(even_number).collect()"
   ]
  },
  {
   "cell_type": "code",
   "execution_count": 0,
   "metadata": {
    "application/vnd.databricks.v1+cell": {
     "cellMetadata": {},
     "inputWidgets": {},
     "nuid": "e1868df4-ef24-4855-8c31-241829c5360f",
     "showTitle": false,
     "title": ""
    }
   },
   "outputs": [],
   "source": [
    "rdd4=rdd1.flatMap(lambda x: (x[0],x[1]))"
   ]
  },
  {
   "cell_type": "code",
   "execution_count": 0,
   "metadata": {
    "application/vnd.databricks.v1+cell": {
     "cellMetadata": {},
     "inputWidgets": {},
     "nuid": "bf0dfadd-90c3-4f7d-9ccd-2080cccf1a45",
     "showTitle": false,
     "title": ""
    }
   },
   "outputs": [
    {
     "output_type": "stream",
     "name": "stdout",
     "output_type": "stream",
     "text": [
      "Out[42]: [1, 2, 3, 4, 12, 43, 12, 12]"
     ]
    }
   ],
   "source": [
    "rdd4.collect()"
   ]
  },
  {
   "cell_type": "code",
   "execution_count": 0,
   "metadata": {
    "application/vnd.databricks.v1+cell": {
     "cellMetadata": {},
     "inputWidgets": {},
     "nuid": "d9529c0f-1b01-4c86-8c21-d5476dba9a93",
     "showTitle": false,
     "title": ""
    }
   },
   "outputs": [
    {
     "output_type": "stream",
     "name": "stdout",
     "output_type": "stream",
     "text": [
      "Out[45]: 8"
     ]
    }
   ],
   "source": [
    "rdd4.count()"
   ]
  },
  {
   "cell_type": "code",
   "execution_count": 0,
   "metadata": {
    "application/vnd.databricks.v1+cell": {
     "cellMetadata": {},
     "inputWidgets": {},
     "nuid": "0455c69c-b36c-42c7-97e7-690d4e3b4150",
     "showTitle": false,
     "title": ""
    }
   },
   "outputs": [
    {
     "output_type": "stream",
     "name": "stdout",
     "output_type": "stream",
     "text": [
      "Out[46]: 6"
     ]
    }
   ],
   "source": [
    "rdd4.distinct().count()"
   ]
  },
  {
   "cell_type": "code",
   "execution_count": 0,
   "metadata": {
    "application/vnd.databricks.v1+cell": {
     "cellMetadata": {},
     "inputWidgets": {},
     "nuid": "892e5df6-d084-40eb-bc38-e299be122b4d",
     "showTitle": false,
     "title": ""
    }
   },
   "outputs": [
    {
     "output_type": "stream",
     "name": "stdout",
     "output_type": "stream",
     "text": [
      "Out[47]: [1, 2, 3, 4, 12, 43, 12, 12]"
     ]
    }
   ],
   "source": [
    "rdd4.collect()"
   ]
  },
  {
   "cell_type": "code",
   "execution_count": 0,
   "metadata": {
    "application/vnd.databricks.v1+cell": {
     "cellMetadata": {},
     "inputWidgets": {},
     "nuid": "f3739e5a-fc2b-4018-993e-f2fe07bcdc87",
     "showTitle": false,
     "title": ""
    }
   },
   "outputs": [],
   "source": [
    "#groupByKey needs a key value pair \n",
    "rdd5=rdd4.map(lambda x: (x,x+1))"
   ]
  },
  {
   "cell_type": "code",
   "execution_count": 0,
   "metadata": {
    "application/vnd.databricks.v1+cell": {
     "cellMetadata": {},
     "inputWidgets": {},
     "nuid": "b412723d-bd4e-40b4-8335-3dbfeb58debf",
     "showTitle": false,
     "title": ""
    }
   },
   "outputs": [
    {
     "output_type": "stream",
     "name": "stdout",
     "output_type": "stream",
     "text": [
      "Out[50]: [(1, 2), (2, 3), (3, 4), (4, 5), (12, 13), (43, 44), (12, 13), (12, 13)]"
     ]
    }
   ],
   "source": [
    "rdd5.collect()"
   ]
  },
  {
   "cell_type": "code",
   "execution_count": 0,
   "metadata": {
    "application/vnd.databricks.v1+cell": {
     "cellMetadata": {},
     "inputWidgets": {},
     "nuid": "589314d8-9902-4cb9-bda1-8f329ed7eba6",
     "showTitle": false,
     "title": ""
    }
   },
   "outputs": [
    {
     "output_type": "stream",
     "name": "stdout",
     "output_type": "stream",
     "text": [
      "Out[55]: [(2, [3]), (4, [5]), (12, [13, 13, 13]), (1, [2]), (3, [4]), (43, [44])]"
     ]
    }
   ],
   "source": [
    "rdd5.groupByKey().mapValues(list).collect()"
   ]
  },
  {
   "cell_type": "code",
   "execution_count": 0,
   "metadata": {
    "application/vnd.databricks.v1+cell": {
     "cellMetadata": {},
     "inputWidgets": {},
     "nuid": "13e300b7-b23b-43e7-8f78-6b0eb67b5310",
     "showTitle": false,
     "title": ""
    }
   },
   "outputs": [
    {
     "output_type": "stream",
     "name": "stdout",
     "output_type": "stream",
     "text": [
      "Out[56]: [(1, 2), (2, 3), (3, 4), (4, 5), (12, 13), (43, 44), (12, 13), (12, 13)]"
     ]
    }
   ],
   "source": [
    "rdd5.collect()"
   ]
  },
  {
   "cell_type": "code",
   "execution_count": 0,
   "metadata": {
    "application/vnd.databricks.v1+cell": {
     "cellMetadata": {},
     "inputWidgets": {},
     "nuid": "a91716bd-59a0-4ec6-8bc9-1d2acaf355c7",
     "showTitle": false,
     "title": ""
    }
   },
   "outputs": [
    {
     "output_type": "stream",
     "name": "stdout",
     "output_type": "stream",
     "text": [
      "Out[57]: [(2, 3), (4, 5), (12, 39), (1, 2), (3, 4), (43, 44)]"
     ]
    }
   ],
   "source": [
    "rdd5.reduceByKey(lambda x,y :x+y).collect()"
   ]
  },
  {
   "cell_type": "code",
   "execution_count": 0,
   "metadata": {
    "application/vnd.databricks.v1+cell": {
     "cellMetadata": {},
     "inputWidgets": {},
     "nuid": "b2f11db4-75b0-48a3-971c-e668c81405d8",
     "showTitle": false,
     "title": ""
    }
   },
   "outputs": [
    {
     "output_type": "stream",
     "name": "stdout",
     "output_type": "stream",
     "text": [
      "Out[62]: defaultdict(int,\n            {(1, 2): 1,\n             (2, 3): 1,\n             (3, 4): 1,\n             (4, 5): 1,\n             (12, 13): 3,\n             (43, 44): 1})"
     ]
    }
   ],
   "source": [
    "rdd5.countByValue()"
   ]
  },
  {
   "cell_type": "code",
   "execution_count": 0,
   "metadata": {
    "application/vnd.databricks.v1+cell": {
     "cellMetadata": {},
     "inputWidgets": {},
     "nuid": "af0afc15-9bd2-4c28-bb27-d1fadea6b9f6",
     "showTitle": false,
     "title": ""
    }
   },
   "outputs": [
    {
     "output_type": "stream",
     "name": "stdout",
     "output_type": "stream",
     "text": [
      "Out[59]: defaultdict(int, {1: 1, 2: 1, 3: 1, 4: 1, 12: 3, 43: 1})"
     ]
    }
   ],
   "source": [
    "rdd5.countByKey()"
   ]
  },
  {
   "cell_type": "code",
   "execution_count": 0,
   "metadata": {
    "application/vnd.databricks.v1+cell": {
     "cellMetadata": {},
     "inputWidgets": {},
     "nuid": "4e5af462-22f8-4ca4-9869-5ad542f25c34",
     "showTitle": false,
     "title": ""
    }
   },
   "outputs": [],
   "source": [
    "#RDD to a text File\n",
    "#--rdd.saveAsTextFile('path of the directory')--> it will create a folder and the rdd will write to it.\n"
   ]
  },
  {
   "cell_type": "code",
   "execution_count": 0,
   "metadata": {
    "application/vnd.databricks.v1+cell": {
     "cellMetadata": {},
     "inputWidgets": {},
     "nuid": "c6bcd73b-1693-4976-9bd3-01b391a69c5d",
     "showTitle": false,
     "title": ""
    }
   },
   "outputs": [],
   "source": [
    "rdd1.saveAsTextFile('/FileStore/RDD_to_text/output')"
   ]
  },
  {
   "cell_type": "code",
   "execution_count": 0,
   "metadata": {
    "application/vnd.databricks.v1+cell": {
     "cellMetadata": {},
     "inputWidgets": {},
     "nuid": "3c787859-931e-4318-a2a0-f66ef665a9d2",
     "showTitle": false,
     "title": ""
    }
   },
   "outputs": [
    {
     "output_type": "stream",
     "name": "stdout",
     "output_type": "stream",
     "text": [
      "Out[67]: 'There will be two files because there are two partitions for the current RDD '"
     ]
    }
   ],
   "source": [
    "\"\"\"There will be two files because there are two partitions for the current RDD \"\"\""
   ]
  },
  {
   "cell_type": "code",
   "execution_count": 0,
   "metadata": {
    "application/vnd.databricks.v1+cell": {
     "cellMetadata": {},
     "inputWidgets": {},
     "nuid": "d34f0da2-bb2d-4f16-8bec-503b1ae0fdb7",
     "showTitle": false,
     "title": ""
    }
   },
   "outputs": [
    {
     "output_type": "stream",
     "name": "stdout",
     "output_type": "stream",
     "text": [
      "Out[69]: 2"
     ]
    }
   ],
   "source": [
    "rdd1.getNumPartitions()"
   ]
  },
  {
   "cell_type": "code",
   "execution_count": 0,
   "metadata": {
    "application/vnd.databricks.v1+cell": {
     "cellMetadata": {},
     "inputWidgets": {},
     "nuid": "2f0c3d6a-5cb5-4cb7-838e-638de6c607c3",
     "showTitle": false,
     "title": ""
    }
   },
   "outputs": [],
   "source": [
    "new_Rdd_from_the_out_of_an_RDD=sc.textFile('/FileStore/RDD_to_text/output')"
   ]
  },
  {
   "cell_type": "code",
   "execution_count": 0,
   "metadata": {
    "application/vnd.databricks.v1+cell": {
     "cellMetadata": {},
     "inputWidgets": {},
     "nuid": "4a129f14-f023-4581-a30a-4c739cc7f813",
     "showTitle": false,
     "title": ""
    }
   },
   "outputs": [
    {
     "output_type": "stream",
     "name": "stdout",
     "output_type": "stream",
     "text": [
      "Out[71]: ['[1, 2, 3]', '[3, 4, 5]', '[12, 43, 6]', '[12, 12, 33]']"
     ]
    }
   ],
   "source": [
    "new_Rdd_from_the_out_of_an_RDD.collect()"
   ]
  },
  {
   "cell_type": "code",
   "execution_count": 0,
   "metadata": {
    "application/vnd.databricks.v1+cell": {
     "cellMetadata": {},
     "inputWidgets": {},
     "nuid": "cb218074-3939-49fb-b8e7-fe080f7fb508",
     "showTitle": false,
     "title": ""
    }
   },
   "outputs": [
    {
     "output_type": "stream",
     "name": "stdout",
     "output_type": "stream",
     "text": [
      "Out[72]: ' We can use coleasce only to decrease the number of partition---> can not be used to increase the no.of partitions'"
     ]
    }
   ],
   "source": [
    "# To change the number of partitions we can use \n",
    "# 1.repartition(no.of partition) , 2.coleasce(no.of partition)\n",
    "' We can use coleasce only to decrease the number of partition---> can not be used to increase the no.of partitions'"
   ]
  },
  {
   "cell_type": "code",
   "execution_count": 0,
   "metadata": {
    "application/vnd.databricks.v1+cell": {
     "cellMetadata": {},
     "inputWidgets": {},
     "nuid": "56c843a6-be03-43db-8bba-3d007a0e73cd",
     "showTitle": false,
     "title": ""
    }
   },
   "outputs": [
    {
     "output_type": "stream",
     "name": "stdout",
     "output_type": "stream",
     "text": [
      "Out[73]: 2"
     ]
    }
   ],
   "source": [
    "rdd1.getNumPartitions()"
   ]
  },
  {
   "cell_type": "code",
   "execution_count": 0,
   "metadata": {
    "application/vnd.databricks.v1+cell": {
     "cellMetadata": {},
     "inputWidgets": {},
     "nuid": "d8db2756-09d1-4abb-a2f4-0effab1b3892",
     "showTitle": false,
     "title": ""
    }
   },
   "outputs": [],
   "source": [
    "rdd1=rdd1.repartition(5)"
   ]
  },
  {
   "cell_type": "code",
   "execution_count": 0,
   "metadata": {
    "application/vnd.databricks.v1+cell": {
     "cellMetadata": {},
     "inputWidgets": {},
     "nuid": "7eca770e-1fc0-4438-9b53-dbd5e46ba11e",
     "showTitle": false,
     "title": ""
    }
   },
   "outputs": [
    {
     "output_type": "stream",
     "name": "stdout",
     "output_type": "stream",
     "text": [
      "Out[79]: 5"
     ]
    }
   ],
   "source": [
    "rdd1.getNumPartitions()"
   ]
  },
  {
   "cell_type": "code",
   "execution_count": 0,
   "metadata": {
    "application/vnd.databricks.v1+cell": {
     "cellMetadata": {},
     "inputWidgets": {},
     "nuid": "83983044-695f-4b15-8c7b-048bf629dc7e",
     "showTitle": false,
     "title": ""
    }
   },
   "outputs": [],
   "source": [
    "rdd1=rdd1.coalesce(1)"
   ]
  },
  {
   "cell_type": "code",
   "execution_count": 0,
   "metadata": {
    "application/vnd.databricks.v1+cell": {
     "cellMetadata": {},
     "inputWidgets": {},
     "nuid": "779384a4-a323-41f0-86ea-9aac6d002404",
     "showTitle": false,
     "title": ""
    }
   },
   "outputs": [
    {
     "output_type": "stream",
     "name": "stdout",
     "output_type": "stream",
     "text": [
      "Out[82]: 1"
     ]
    }
   ],
   "source": [
    "rdd1.getNumPartitions()"
   ]
  },
  {
   "cell_type": "code",
   "execution_count": 0,
   "metadata": {
    "application/vnd.databricks.v1+cell": {
     "cellMetadata": {},
     "inputWidgets": {},
     "nuid": "f6b8e1f1-a476-4fb2-9db5-c419c771f5e0",
     "showTitle": false,
     "title": ""
    }
   },
   "outputs": [],
   "source": [
    "rdd1.saveAsTextFile('/FileStore/after_coalesce/output')"
   ]
  },
  {
   "cell_type": "code",
   "execution_count": 0,
   "metadata": {
    "application/vnd.databricks.v1+cell": {
     "cellMetadata": {},
     "inputWidgets": {},
     "nuid": "43b58f99-0e9c-41ea-a62f-d03b77cd783f",
     "showTitle": false,
     "title": ""
    }
   },
   "outputs": [],
   "source": [
    "# It will result into generating a single file as it's partition is reduced to 1."
   ]
  },
  {
   "cell_type": "code",
   "execution_count": 0,
   "metadata": {
    "application/vnd.databricks.v1+cell": {
     "cellMetadata": {},
     "inputWidgets": {},
     "nuid": "7716ef98-b0bd-47c2-b160-7dd6a6721bea",
     "showTitle": false,
     "title": ""
    }
   },
   "outputs": [
    {
     "output_type": "stream",
     "name": "stdout",
     "output_type": "stream",
     "text": [
      "Out[86]: '\\n1.collect()\\n2.count()\\n'"
     ]
    }
   ],
   "source": [
    "###RDD Functions(Action)\n",
    "'''\n",
    "1.collect()\n",
    "2.count()\n",
    "'''"
   ]
  },
  {
   "cell_type": "code",
   "execution_count": 0,
   "metadata": {
    "application/vnd.databricks.v1+cell": {
     "cellMetadata": {},
     "inputWidgets": {},
     "nuid": "0e14f9c7-baa7-4299-97be-6a60c9fb91b6",
     "showTitle": false,
     "title": ""
    }
   },
   "outputs": [
    {
     "output_type": "stream",
     "name": "stdout",
     "output_type": "stream",
     "text": [
      "Out[88]: '\\n\\n# Map Quiz\\n\\n'"
     ]
    }
   ],
   "source": [
    "\"\"\"\n",
    "\n",
    "# Map Quiz\n",
    "\n",
    "\"\"\""
   ]
  },
  {
   "cell_type": "code",
   "execution_count": 0,
   "metadata": {
    "application/vnd.databricks.v1+cell": {
     "cellMetadata": {},
     "inputWidgets": {},
     "nuid": "8cdc4e10-fcae-404b-982e-33b21bf40fc7",
     "showTitle": false,
     "title": ""
    }
   },
   "outputs": [
    {
     "output_type": "display_data",
     "data": {
      "text/plain": [
       "\u001B[0;31m---------------------------------------------------------------------------\u001B[0m\n",
       "\u001B[0;31mValueError\u001B[0m                                Traceback (most recent call last)\n",
       "\u001B[0;32m<command-3382406843183042>\u001B[0m in \u001B[0;36m<module>\u001B[0;34m\u001B[0m\n",
       "\u001B[1;32m      1\u001B[0m \u001B[0;32mfrom\u001B[0m \u001B[0mpyspark\u001B[0m \u001B[0;32mimport\u001B[0m \u001B[0mSparkConf\u001B[0m\u001B[0;34m,\u001B[0m\u001B[0mSparkContext\u001B[0m\u001B[0;34m\u001B[0m\u001B[0;34m\u001B[0m\u001B[0m\n",
       "\u001B[1;32m      2\u001B[0m \u001B[0mconf\u001B[0m\u001B[0;34m=\u001B[0m\u001B[0mSparkConf\u001B[0m\u001B[0;34m(\u001B[0m\u001B[0;34m)\u001B[0m\u001B[0;34m.\u001B[0m\u001B[0msetAppName\u001B[0m\u001B[0;34m(\u001B[0m\u001B[0;34m'map_quiz'\u001B[0m\u001B[0;34m)\u001B[0m\u001B[0;34m\u001B[0m\u001B[0;34m\u001B[0m\u001B[0m\n",
       "\u001B[0;32m----> 3\u001B[0;31m \u001B[0msc\u001B[0m\u001B[0;34m=\u001B[0m\u001B[0mSparkContext\u001B[0m\u001B[0;34m(\u001B[0m\u001B[0;34m)\u001B[0m\u001B[0;34m.\u001B[0m\u001B[0mgetOrCreate\u001B[0m\u001B[0;34m(\u001B[0m\u001B[0mconf\u001B[0m\u001B[0;34m=\u001B[0m\u001B[0mconf\u001B[0m\u001B[0;34m)\u001B[0m\u001B[0;34m\u001B[0m\u001B[0;34m\u001B[0m\u001B[0m\n",
       "\u001B[0m\n",
       "\u001B[0;32m/databricks/spark/python/pyspark/context.py\u001B[0m in \u001B[0;36m__init__\u001B[0;34m(self, master, appName, sparkHome, pyFiles, environment, batchSize, serializer, conf, gateway, jsc, profiler_cls)\u001B[0m\n",
       "\u001B[1;32m    143\u001B[0m                 \" is not allowed as it is a security risk.\")\n",
       "\u001B[1;32m    144\u001B[0m \u001B[0;34m\u001B[0m\u001B[0m\n",
       "\u001B[0;32m--> 145\u001B[0;31m         \u001B[0mSparkContext\u001B[0m\u001B[0;34m.\u001B[0m\u001B[0m_ensure_initialized\u001B[0m\u001B[0;34m(\u001B[0m\u001B[0mself\u001B[0m\u001B[0;34m,\u001B[0m \u001B[0mgateway\u001B[0m\u001B[0;34m=\u001B[0m\u001B[0mgateway\u001B[0m\u001B[0;34m,\u001B[0m \u001B[0mconf\u001B[0m\u001B[0;34m=\u001B[0m\u001B[0mconf\u001B[0m\u001B[0;34m)\u001B[0m\u001B[0;34m\u001B[0m\u001B[0;34m\u001B[0m\u001B[0m\n",
       "\u001B[0m\u001B[1;32m    146\u001B[0m         \u001B[0;32mtry\u001B[0m\u001B[0;34m:\u001B[0m\u001B[0;34m\u001B[0m\u001B[0;34m\u001B[0m\u001B[0m\n",
       "\u001B[1;32m    147\u001B[0m             self._do_init(master, appName, sparkHome, pyFiles, environment, batchSize, serializer,\n",
       "\n",
       "\u001B[0;32m/databricks/spark/python/pyspark/context.py\u001B[0m in \u001B[0;36m_ensure_initialized\u001B[0;34m(cls, instance, gateway, conf)\u001B[0m\n",
       "\u001B[1;32m    348\u001B[0m \u001B[0;34m\u001B[0m\u001B[0m\n",
       "\u001B[1;32m    349\u001B[0m                     \u001B[0;31m# Raise error if there is already a running Spark context\u001B[0m\u001B[0;34m\u001B[0m\u001B[0;34m\u001B[0m\u001B[0;34m\u001B[0m\u001B[0m\n",
       "\u001B[0;32m--> 350\u001B[0;31m                     raise ValueError(\n",
       "\u001B[0m\u001B[1;32m    351\u001B[0m                         \u001B[0;34m\"Cannot run multiple SparkContexts at once; \"\u001B[0m\u001B[0;34m\u001B[0m\u001B[0;34m\u001B[0m\u001B[0m\n",
       "\u001B[1;32m    352\u001B[0m                         \u001B[0;34m\"existing SparkContext(app=%s, master=%s)\"\u001B[0m\u001B[0;34m\u001B[0m\u001B[0;34m\u001B[0m\u001B[0m\n",
       "\n",
       "\u001B[0;31mValueError\u001B[0m: Cannot run multiple SparkContexts at once; existing SparkContext(app=Databricks Shell, master=local[8]) created by __init__ at /databricks/python_shell/dbruntime/spark_connection.py:128 "
      ]
     },
     "metadata": {
      "application/vnd.databricks.v1+output": {
       "arguments": {},
       "data": "\u001B[0;31m---------------------------------------------------------------------------\u001B[0m\n\u001B[0;31mValueError\u001B[0m                                Traceback (most recent call last)\n\u001B[0;32m<command-3382406843183042>\u001B[0m in \u001B[0;36m<module>\u001B[0;34m\u001B[0m\n\u001B[1;32m      1\u001B[0m \u001B[0;32mfrom\u001B[0m \u001B[0mpyspark\u001B[0m \u001B[0;32mimport\u001B[0m \u001B[0mSparkConf\u001B[0m\u001B[0;34m,\u001B[0m\u001B[0mSparkContext\u001B[0m\u001B[0;34m\u001B[0m\u001B[0;34m\u001B[0m\u001B[0m\n\u001B[1;32m      2\u001B[0m \u001B[0mconf\u001B[0m\u001B[0;34m=\u001B[0m\u001B[0mSparkConf\u001B[0m\u001B[0;34m(\u001B[0m\u001B[0;34m)\u001B[0m\u001B[0;34m.\u001B[0m\u001B[0msetAppName\u001B[0m\u001B[0;34m(\u001B[0m\u001B[0;34m'map_quiz'\u001B[0m\u001B[0;34m)\u001B[0m\u001B[0;34m\u001B[0m\u001B[0;34m\u001B[0m\u001B[0m\n\u001B[0;32m----> 3\u001B[0;31m \u001B[0msc\u001B[0m\u001B[0;34m=\u001B[0m\u001B[0mSparkContext\u001B[0m\u001B[0;34m(\u001B[0m\u001B[0;34m)\u001B[0m\u001B[0;34m.\u001B[0m\u001B[0mgetOrCreate\u001B[0m\u001B[0;34m(\u001B[0m\u001B[0mconf\u001B[0m\u001B[0;34m=\u001B[0m\u001B[0mconf\u001B[0m\u001B[0;34m)\u001B[0m\u001B[0;34m\u001B[0m\u001B[0;34m\u001B[0m\u001B[0m\n\u001B[0m\n\u001B[0;32m/databricks/spark/python/pyspark/context.py\u001B[0m in \u001B[0;36m__init__\u001B[0;34m(self, master, appName, sparkHome, pyFiles, environment, batchSize, serializer, conf, gateway, jsc, profiler_cls)\u001B[0m\n\u001B[1;32m    143\u001B[0m                 \" is not allowed as it is a security risk.\")\n\u001B[1;32m    144\u001B[0m \u001B[0;34m\u001B[0m\u001B[0m\n\u001B[0;32m--> 145\u001B[0;31m         \u001B[0mSparkContext\u001B[0m\u001B[0;34m.\u001B[0m\u001B[0m_ensure_initialized\u001B[0m\u001B[0;34m(\u001B[0m\u001B[0mself\u001B[0m\u001B[0;34m,\u001B[0m \u001B[0mgateway\u001B[0m\u001B[0;34m=\u001B[0m\u001B[0mgateway\u001B[0m\u001B[0;34m,\u001B[0m \u001B[0mconf\u001B[0m\u001B[0;34m=\u001B[0m\u001B[0mconf\u001B[0m\u001B[0;34m)\u001B[0m\u001B[0;34m\u001B[0m\u001B[0;34m\u001B[0m\u001B[0m\n\u001B[0m\u001B[1;32m    146\u001B[0m         \u001B[0;32mtry\u001B[0m\u001B[0;34m:\u001B[0m\u001B[0;34m\u001B[0m\u001B[0;34m\u001B[0m\u001B[0m\n\u001B[1;32m    147\u001B[0m             self._do_init(master, appName, sparkHome, pyFiles, environment, batchSize, serializer,\n\n\u001B[0;32m/databricks/spark/python/pyspark/context.py\u001B[0m in \u001B[0;36m_ensure_initialized\u001B[0;34m(cls, instance, gateway, conf)\u001B[0m\n\u001B[1;32m    348\u001B[0m \u001B[0;34m\u001B[0m\u001B[0m\n\u001B[1;32m    349\u001B[0m                     \u001B[0;31m# Raise error if there is already a running Spark context\u001B[0m\u001B[0;34m\u001B[0m\u001B[0;34m\u001B[0m\u001B[0;34m\u001B[0m\u001B[0m\n\u001B[0;32m--> 350\u001B[0;31m                     raise ValueError(\n\u001B[0m\u001B[1;32m    351\u001B[0m                         \u001B[0;34m\"Cannot run multiple SparkContexts at once; \"\u001B[0m\u001B[0;34m\u001B[0m\u001B[0;34m\u001B[0m\u001B[0m\n\u001B[1;32m    352\u001B[0m                         \u001B[0;34m\"existing SparkContext(app=%s, master=%s)\"\u001B[0m\u001B[0;34m\u001B[0m\u001B[0;34m\u001B[0m\u001B[0m\n\n\u001B[0;31mValueError\u001B[0m: Cannot run multiple SparkContexts at once; existing SparkContext(app=Databricks Shell, master=local[8]) created by __init__ at /databricks/python_shell/dbruntime/spark_connection.py:128 ",
       "errorSummary": "<span class='ansi-red-fg'>ValueError</span>: Cannot run multiple SparkContexts at once; existing SparkContext(app=Databricks Shell, master=local[8]) created by __init__ at /databricks/python_shell/dbruntime/spark_connection.py:128 ",
       "errorTraceType": "ansi",
       "metadata": {},
       "type": "ipynbError"
      }
     },
     "output_type": "display_data"
    }
   ],
   "source": []
  },
  {
   "cell_type": "code",
   "execution_count": 0,
   "metadata": {
    "application/vnd.databricks.v1+cell": {
     "cellMetadata": {},
     "inputWidgets": {},
     "nuid": "9e3e00d9-0095-4fb3-832f-263b5a77865b",
     "showTitle": false,
     "title": ""
    }
   },
   "outputs": [],
   "source": [
    "maprdd=sc.textFile('FileStore/tables/map_quiz.txt')"
   ]
  },
  {
   "cell_type": "code",
   "execution_count": 0,
   "metadata": {
    "application/vnd.databricks.v1+cell": {
     "cellMetadata": {},
     "inputWidgets": {},
     "nuid": "0aebfdc1-3727-4c89-9b34-bf5238b03df3",
     "showTitle": false,
     "title": ""
    }
   },
   "outputs": [
    {
     "output_type": "stream",
     "name": "stdout",
     "output_type": "stream",
     "text": [
      "Out[92]: ['Hi how are you?', 'Hope you are doing', 'great']"
     ]
    }
   ],
   "source": [
    "maprdd.collect()"
   ]
  },
  {
   "cell_type": "code",
   "execution_count": 0,
   "metadata": {
    "application/vnd.databricks.v1+cell": {
     "cellMetadata": {},
     "inputWidgets": {},
     "nuid": "e717276e-8512-4938-8dd3-ead45701c829",
     "showTitle": false,
     "title": ""
    }
   },
   "outputs": [
    {
     "output_type": "stream",
     "name": "stdout",
     "output_type": "stream",
     "text": [
      "Out[99]: [[2, 3, 3, 4], [4, 3, 3, 5], [5]]"
     ]
    }
   ],
   "source": [
    "maprdd.map(lambda x:[len(i) for i in x.split(' ')]).collect()"
   ]
  },
  {
   "cell_type": "code",
   "execution_count": 0,
   "metadata": {
    "application/vnd.databricks.v1+cell": {
     "cellMetadata": {},
     "inputWidgets": {},
     "nuid": "3dd94dc9-783e-44ed-bee1-e1713bc41ae5",
     "showTitle": false,
     "title": ""
    }
   },
   "outputs": [],
   "source": [
    "def quiz(x):\n",
    "  k=x.split(' ')\n",
    "  l2=[]\n",
    "  for i in k:\n",
    "    l2.append(len(i))\n",
    "  return l2"
   ]
  },
  {
   "cell_type": "code",
   "execution_count": 0,
   "metadata": {
    "application/vnd.databricks.v1+cell": {
     "cellMetadata": {},
     "inputWidgets": {},
     "nuid": "3d492000-eab5-4284-ba60-d2375bacd6b1",
     "showTitle": false,
     "title": ""
    }
   },
   "outputs": [
    {
     "output_type": "stream",
     "name": "stdout",
     "output_type": "stream",
     "text": [
      "Out[101]: [[2, 3, 3, 4], [4, 3, 3, 5], [5]]"
     ]
    }
   ],
   "source": [
    "maprdd.map(quiz).collect()"
   ]
  },
  {
   "cell_type": "code",
   "execution_count": 0,
   "metadata": {
    "application/vnd.databricks.v1+cell": {
     "cellMetadata": {},
     "inputWidgets": {},
     "nuid": "f2e27e2a-cdf1-4f29-8d0e-2cab0bac22e7",
     "showTitle": false,
     "title": ""
    }
   },
   "outputs": [],
   "source": [
    "q2rdd=sc.textFile('FileStore/tables/quiz_2.txt')"
   ]
  },
  {
   "cell_type": "code",
   "execution_count": 0,
   "metadata": {
    "application/vnd.databricks.v1+cell": {
     "cellMetadata": {},
     "inputWidgets": {},
     "nuid": "93a65c04-d761-40af-8ef5-e6d0118dbf3e",
     "showTitle": false,
     "title": ""
    }
   },
   "outputs": [
    {
     "output_type": "stream",
     "name": "stdout",
     "output_type": "stream",
     "text": [
      "Out[105]: ['this mango company animal',\n 'cat dog ant mic laptop',\n 'chair switch mobile am charger cover',\n 'amanda any alarm ant']"
     ]
    }
   ],
   "source": [
    "q2rdd.collect()"
   ]
  },
  {
   "cell_type": "code",
   "execution_count": 0,
   "metadata": {
    "application/vnd.databricks.v1+cell": {
     "cellMetadata": {},
     "inputWidgets": {},
     "nuid": "b4d6f360-c5be-4c55-8d7a-94f96c0f3da0",
     "showTitle": false,
     "title": ""
    }
   },
   "outputs": [],
   "source": [
    "def remove_word(x):\n",
    "  '''remove the words which starts with a or c'''\n",
    "  if x[0]=='a' or x[0]=='c':\n",
    "    return False\n",
    "  else:\n",
    "    return True\n",
    "  \n",
    "def remove_strt(x):\n",
    "  if x.startswith('a') or x.startswith('c'):\n",
    "    return False\n",
    "  else:\n",
    "    return True\n",
    "    "
   ]
  },
  {
   "cell_type": "code",
   "execution_count": 0,
   "metadata": {
    "application/vnd.databricks.v1+cell": {
     "cellMetadata": {},
     "inputWidgets": {},
     "nuid": "3c505fdf-a23f-4b90-a394-f4e4a95f67a0",
     "showTitle": false,
     "title": ""
    }
   },
   "outputs": [
    {
     "output_type": "stream",
     "name": "stdout",
     "output_type": "stream",
     "text": [
      "Out[111]: ['this', 'mango', 'dog', 'mic', 'laptop', 'switch', 'mobile']"
     ]
    }
   ],
   "source": [
    "q2rdd.flatMap(lambda x:x.split(' ')).filter(remove_word).collect()"
   ]
  },
  {
   "cell_type": "code",
   "execution_count": 0,
   "metadata": {
    "application/vnd.databricks.v1+cell": {
     "cellMetadata": {},
     "inputWidgets": {},
     "nuid": "d74c1325-10a0-4040-a429-3b8f7faf9618",
     "showTitle": false,
     "title": ""
    }
   },
   "outputs": [
    {
     "output_type": "stream",
     "name": "stdout",
     "output_type": "stream",
     "text": [
      "Out[118]: 'remove the words which starts with a or c'"
     ]
    }
   ],
   "source": [
    "remove_word.__doc__"
   ]
  },
  {
   "cell_type": "code",
   "execution_count": 0,
   "metadata": {
    "application/vnd.databricks.v1+cell": {
     "cellMetadata": {},
     "inputWidgets": {},
     "nuid": "6457bd82-35d6-4385-a3b8-e196ad859c65",
     "showTitle": false,
     "title": ""
    }
   },
   "outputs": [
    {
     "output_type": "stream",
     "name": "stdout",
     "output_type": "stream",
     "text": [
      "Out[134]: ['this', 'mango', 'dog', 'mic', 'laptop', 'switch', 'mobile']"
     ]
    }
   ],
   "source": [
    "q2rdd.flatMap(lambda x:x.split(' ')).filter(lambda x: not (x.startswith('a') or x.startswith('c'))).collect()"
   ]
  },
  {
   "cell_type": "code",
   "execution_count": 0,
   "metadata": {
    "application/vnd.databricks.v1+cell": {
     "cellMetadata": {},
     "inputWidgets": {},
     "nuid": "0606c82e-dd33-44a3-b660-61949ecbea24",
     "showTitle": false,
     "title": ""
    }
   },
   "outputs": [],
   "source": [
    "q3rdd=sc.textFile('FileStore/tables/quiz_3.txt')"
   ]
  },
  {
   "cell_type": "code",
   "execution_count": 0,
   "metadata": {
    "application/vnd.databricks.v1+cell": {
     "cellMetadata": {},
     "inputWidgets": {},
     "nuid": "3d6f0eae-e381-47ab-a007-d524976a1869",
     "showTitle": false,
     "title": ""
    }
   },
   "outputs": [
    {
     "output_type": "stream",
     "name": "stdout",
     "output_type": "stream",
     "text": [
      "Out[136]: ['this mango company',\n 'cat mango ant animal laptop',\n 'chair switch mango am charger cover',\n 'animal any mango laptop laptop',\n 'this']"
     ]
    }
   ],
   "source": [
    "q3rdd.collect()"
   ]
  },
  {
   "cell_type": "code",
   "execution_count": 0,
   "metadata": {
    "application/vnd.databricks.v1+cell": {
     "cellMetadata": {},
     "inputWidgets": {},
     "nuid": "e691eda7-abce-4141-8fc2-6b639a20b03c",
     "showTitle": false,
     "title": ""
    }
   },
   "outputs": [
    {
     "output_type": "stream",
     "name": "stdout",
     "output_type": "stream",
     "text": [
      "Out[146]: [('this', 2),\n ('mango', 4),\n ('cat', 1),\n ('ant', 1),\n ('laptop', 3),\n ('chair', 1),\n ('switch', 1),\n ('am', 1),\n ('company', 1),\n ('animal', 2),\n ('charger', 1),\n ('cover', 1),\n ('any', 1)]"
     ]
    }
   ],
   "source": [
    "q3rdd.flatMap(lambda x: x.split(' ')).map(lambda x: (x,1)).reduceByKey(lambda x,y:x+y).collect()"
   ]
  },
  {
   "cell_type": "code",
   "execution_count": 0,
   "metadata": {
    "application/vnd.databricks.v1+cell": {
     "cellMetadata": {},
     "inputWidgets": {},
     "nuid": "00900e8e-0b88-45be-8371-893ad62b8de9",
     "showTitle": false,
     "title": ""
    }
   },
   "outputs": [],
   "source": [
    "mrrdd=sc.textFile('/FileStore/tables/movie_rating_1.csv')"
   ]
  },
  {
   "cell_type": "code",
   "execution_count": 0,
   "metadata": {
    "application/vnd.databricks.v1+cell": {
     "cellMetadata": {},
     "inputWidgets": {},
     "nuid": "3378aee3-83d3-4b87-93a3-7413d4f4ec08",
     "showTitle": false,
     "title": ""
    }
   },
   "outputs": [
    {
     "output_type": "stream",
     "name": "stdout",
     "output_type": "stream",
     "text": [
      "Out[155]: ['The Shawshank Redemption,3',\n 'The Matrix,5',\n '12 Angry Men,3',\n '12 Angry Men,4',\n 'The Matrix,5',\n 'Pulp Fiction,4',\n 'The Godfather,5',\n 'The Shawshank Redemption,2',\n 'Pulp Fiction,4',\n 'The Godfather,5',\n '12 Angry Men,2',\n 'The Godfather,3',\n 'Pulp Fiction,4',\n '12 Angry Men,1',\n 'The Shawshank Redemption,2',\n '12 Angry Men,1',\n 'The Shawshank Redemption,5',\n 'Pulp Fiction,5',\n 'Pulp Fiction,2',\n 'The Matrix,4']"
     ]
    }
   ],
   "source": [
    "mrrdd.collect()"
   ]
  },
  {
   "cell_type": "code",
   "execution_count": 0,
   "metadata": {
    "application/vnd.databricks.v1+cell": {
     "cellMetadata": {},
     "inputWidgets": {},
     "nuid": "5d2139e0-5023-4b3c-9ea7-3b5c68a4a488",
     "showTitle": false,
     "title": ""
    }
   },
   "outputs": [],
   "source": [
    "mr2=mrrdd.map(lambda x:(x.split(',')[0],int(x.split(',')[1])))"
   ]
  },
  {
   "cell_type": "code",
   "execution_count": 0,
   "metadata": {
    "application/vnd.databricks.v1+cell": {
     "cellMetadata": {},
     "inputWidgets": {},
     "nuid": "0b244e50-26e7-4e1a-8ccb-0793395bd2ae",
     "showTitle": false,
     "title": ""
    }
   },
   "outputs": [
    {
     "output_type": "stream",
     "name": "stdout",
     "output_type": "stream",
     "text": [
      "Out[163]: [('The Shawshank Redemption', 3),\n ('The Matrix', 5),\n ('12 Angry Men', 3),\n ('12 Angry Men', 4),\n ('The Matrix', 5),\n ('Pulp Fiction', 4),\n ('The Godfather', 5),\n ('The Shawshank Redemption', 2),\n ('Pulp Fiction', 4),\n ('The Godfather', 5),\n ('12 Angry Men', 2),\n ('The Godfather', 3),\n ('Pulp Fiction', 4),\n ('12 Angry Men', 1),\n ('The Shawshank Redemption', 2),\n ('12 Angry Men', 1),\n ('The Shawshank Redemption', 5),\n ('Pulp Fiction', 5),\n ('Pulp Fiction', 2),\n ('The Matrix', 4)]"
     ]
    }
   ],
   "source": [
    "mr2.collect()\n"
   ]
  },
  {
   "cell_type": "code",
   "execution_count": 0,
   "metadata": {
    "application/vnd.databricks.v1+cell": {
     "cellMetadata": {},
     "inputWidgets": {},
     "nuid": "4256721a-8e89-4bd4-a593-3547b73c01a9",
     "showTitle": false,
     "title": ""
    }
   },
   "outputs": [],
   "source": [
    "avg_rdd=mr2.groupByKey().mapValues(list).map(lambda x:(x[0],sum(x[1])/len(x[1])))"
   ]
  },
  {
   "cell_type": "code",
   "execution_count": 0,
   "metadata": {
    "application/vnd.databricks.v1+cell": {
     "cellMetadata": {},
     "inputWidgets": {},
     "nuid": "fa4688e8-c047-45ce-b12b-57722c9802bb",
     "showTitle": false,
     "title": ""
    }
   },
   "outputs": [
    {
     "output_type": "stream",
     "name": "stdout",
     "output_type": "stream",
     "text": [
      "Out[170]: [('The Shawshank Redemption', 3.0),\n ('12 Angry Men', 2.2),\n ('The Godfather', 4.333333333333333),\n ('The Matrix', 4.666666666666667),\n ('Pulp Fiction', 3.8)]"
     ]
    }
   ],
   "source": [
    "avg_rdd.collect()"
   ]
  },
  {
   "cell_type": "code",
   "execution_count": 0,
   "metadata": {
    "application/vnd.databricks.v1+cell": {
     "cellMetadata": {},
     "inputWidgets": {},
     "nuid": "80e6bab5-0768-4bc7-afc1-925500773283",
     "showTitle": false,
     "title": ""
    }
   },
   "outputs": [],
   "source": [
    "#Average Quiz"
   ]
  },
  {
   "cell_type": "code",
   "execution_count": 0,
   "metadata": {
    "application/vnd.databricks.v1+cell": {
     "cellMetadata": {},
     "inputWidgets": {},
     "nuid": "3a361d06-6005-46f0-8dee-2722c4415638",
     "showTitle": false,
     "title": ""
    }
   },
   "outputs": [],
   "source": [
    "from pyspark import SparkConf,SparkContext\n",
    "conf=SparkConf().setAppName('Average')\n",
    "sc=SparkContext.getOrCreate(conf=conf)"
   ]
  },
  {
   "cell_type": "code",
   "execution_count": 0,
   "metadata": {
    "application/vnd.databricks.v1+cell": {
     "cellMetadata": {},
     "inputWidgets": {},
     "nuid": "11feb90f-2bca-41b0-a5d6-b2a9424676ff",
     "showTitle": false,
     "title": ""
    }
   },
   "outputs": [],
   "source": [
    "avrdd=sc.textFile('/FileStore/tables/avg_quiz.csv')"
   ]
  },
  {
   "cell_type": "code",
   "execution_count": 0,
   "metadata": {
    "application/vnd.databricks.v1+cell": {
     "cellMetadata": {},
     "inputWidgets": {},
     "nuid": "c51671ee-3735-4827-94f3-49113dab5c93",
     "showTitle": false,
     "title": ""
    }
   },
   "outputs": [
    {
     "output_type": "stream",
     "name": "stdout",
     "output_type": "stream",
     "text": [
      "Out[7]: ['JAN,NY,3.0',\n 'JAN,PA,1.0',\n 'JAN,NJ,2.0',\n 'JAN,CT,4.0',\n 'FEB,PA,1.0',\n 'FEB,NJ,1.0',\n 'FEB,NY,2.0',\n 'FEB,VT,1.0',\n 'MAR,NJ,2.0',\n 'MAR,NY,1.0',\n 'MAR,VT,2.0',\n 'MAR,PA,3.0']"
     ]
    }
   ],
   "source": [
    "avrdd.collect()"
   ]
  },
  {
   "cell_type": "code",
   "execution_count": 0,
   "metadata": {
    "application/vnd.databricks.v1+cell": {
     "cellMetadata": {},
     "inputWidgets": {},
     "nuid": "54b3f7b3-e2e5-44a1-9f06-771cc38f4fae",
     "showTitle": false,
     "title": ""
    }
   },
   "outputs": [],
   "source": [
    "solrdd=avrdd.map(lambda x: x.split(',')).map(lambda x:(x[0],float(x[-1]))).groupByKey().mapValues(list)"
   ]
  },
  {
   "cell_type": "code",
   "execution_count": 0,
   "metadata": {
    "application/vnd.databricks.v1+cell": {
     "cellMetadata": {},
     "inputWidgets": {},
     "nuid": "7e68a211-f6a7-442e-9573-c1d10f8096cb",
     "showTitle": false,
     "title": ""
    }
   },
   "outputs": [
    {
     "output_type": "stream",
     "name": "stdout",
     "output_type": "stream",
     "text": [
      "Out[18]: [('JAN', [3.0, 1.0, 2.0, 4.0]),\n ('FEB', [1.0, 1.0, 2.0, 1.0]),\n ('MAR', [2.0, 1.0, 2.0, 3.0])]"
     ]
    }
   ],
   "source": [
    "solrdd.collect()"
   ]
  },
  {
   "cell_type": "code",
   "execution_count": 0,
   "metadata": {
    "application/vnd.databricks.v1+cell": {
     "cellMetadata": {},
     "inputWidgets": {},
     "nuid": "7cca64b6-408a-4d1a-891c-e0343072f935",
     "showTitle": false,
     "title": ""
    }
   },
   "outputs": [
    {
     "output_type": "stream",
     "name": "stdout",
     "output_type": "stream",
     "text": [
      "Out[20]: [('JAN', 2.5), ('FEB', 1.25), ('MAR', 2.0)]"
     ]
    }
   ],
   "source": [
    "solrdd.map(lambda x: (x[0], sum(x[1])/len(x[1]))).collect()"
   ]
  },
  {
   "cell_type": "code",
   "execution_count": 0,
   "metadata": {
    "application/vnd.databricks.v1+cell": {
     "cellMetadata": {},
     "inputWidgets": {},
     "nuid": "a4a82d56-da2f-42e4-890a-b01d3b3753c7",
     "showTitle": false,
     "title": ""
    }
   },
   "outputs": [],
   "source": [
    "#Finding min and max"
   ]
  },
  {
   "cell_type": "code",
   "execution_count": 0,
   "metadata": {
    "application/vnd.databricks.v1+cell": {
     "cellMetadata": {},
     "inputWidgets": {},
     "nuid": "c0b1f5e3-fda9-4df1-ad79-39e13237755b",
     "showTitle": false,
     "title": ""
    }
   },
   "outputs": [],
   "source": [
    "mr=sc.textFile('/FileStore/tables/movie_rating_1.csv')"
   ]
  },
  {
   "cell_type": "code",
   "execution_count": 0,
   "metadata": {
    "application/vnd.databricks.v1+cell": {
     "cellMetadata": {},
     "inputWidgets": {},
     "nuid": "93f0a797-d321-4963-b7cd-b065e37323e8",
     "showTitle": false,
     "title": ""
    }
   },
   "outputs": [
    {
     "output_type": "stream",
     "name": "stdout",
     "output_type": "stream",
     "text": [
      "Out[23]: ['The Shawshank Redemption,3',\n 'The Matrix,5',\n '12 Angry Men,3',\n '12 Angry Men,4',\n 'The Matrix,5',\n 'Pulp Fiction,4',\n 'The Godfather,5',\n 'The Shawshank Redemption,2',\n 'Pulp Fiction,4',\n 'The Godfather,5',\n '12 Angry Men,2',\n 'The Godfather,3',\n 'Pulp Fiction,4',\n '12 Angry Men,1',\n 'The Shawshank Redemption,2',\n '12 Angry Men,1',\n 'The Shawshank Redemption,5',\n 'Pulp Fiction,5',\n 'Pulp Fiction,2',\n 'The Matrix,4']"
     ]
    }
   ],
   "source": [
    "mr.collect()\n",
    "\n",
    "\n"
   ]
  },
  {
   "cell_type": "code",
   "execution_count": 0,
   "metadata": {
    "application/vnd.databricks.v1+cell": {
     "cellMetadata": {},
     "inputWidgets": {},
     "nuid": "54e593a4-37fd-47ed-a3a9-f362135e1e67",
     "showTitle": false,
     "title": ""
    }
   },
   "outputs": [],
   "source": [
    "mrgrp=mr.map(lambda x:x.split(',')).groupByKey().mapValues(list)"
   ]
  },
  {
   "cell_type": "code",
   "execution_count": 0,
   "metadata": {
    "application/vnd.databricks.v1+cell": {
     "cellMetadata": {},
     "inputWidgets": {},
     "nuid": "2bf1ae79-fc43-478c-9730-030aa68fe9ae",
     "showTitle": false,
     "title": ""
    }
   },
   "outputs": [
    {
     "output_type": "stream",
     "name": "stdout",
     "output_type": "stream",
     "text": [
      "Out[27]: [('The Shawshank Redemption', ['3', '2', '2', '5']),\n ('12 Angry Men', ['3', '4', '2', '1', '1']),\n ('The Godfather', ['5', '5', '3']),\n ('The Matrix', ['5', '5', '4']),\n ('Pulp Fiction', ['4', '4', '4', '5', '2'])]"
     ]
    }
   ],
   "source": [
    "mrgrp.collect()"
   ]
  },
  {
   "cell_type": "code",
   "execution_count": 0,
   "metadata": {
    "application/vnd.databricks.v1+cell": {
     "cellMetadata": {},
     "inputWidgets": {},
     "nuid": "187e2ab9-69fe-425f-a227-9e024fd02610",
     "showTitle": false,
     "title": ""
    }
   },
   "outputs": [
    {
     "output_type": "stream",
     "name": "stdout",
     "output_type": "stream",
     "text": [
      "Out[29]: [('The Shawshank Redemption', '2', '5'),\n ('12 Angry Men', '1', '4'),\n ('The Godfather', '3', '5'),\n ('The Matrix', '4', '5'),\n ('Pulp Fiction', '2', '5')]"
     ]
    }
   ],
   "source": [
    "mrgrp.map(lambda x: (x[0],min(x[1]),max(x[1]))).collect()"
   ]
  },
  {
   "cell_type": "code",
   "execution_count": 0,
   "metadata": {
    "application/vnd.databricks.v1+cell": {
     "cellMetadata": {},
     "inputWidgets": {},
     "nuid": "1857530a-ce4b-4b7f-80f7-66b064de25a9",
     "showTitle": false,
     "title": ""
    }
   },
   "outputs": [],
   "source": [
    "min_max=sc.textFile('/FileStore/tables/avg_quiz.csv')"
   ]
  },
  {
   "cell_type": "code",
   "execution_count": 0,
   "metadata": {
    "application/vnd.databricks.v1+cell": {
     "cellMetadata": {},
     "inputWidgets": {},
     "nuid": "efcef683-cc5f-41e7-b522-6a624df52c32",
     "showTitle": false,
     "title": ""
    }
   },
   "outputs": [
    {
     "output_type": "stream",
     "name": "stdout",
     "output_type": "stream",
     "text": [
      "Out[31]: ['JAN,NY,3.0',\n 'JAN,PA,1.0',\n 'JAN,NJ,2.0',\n 'JAN,CT,4.0',\n 'FEB,PA,1.0',\n 'FEB,NJ,1.0',\n 'FEB,NY,2.0',\n 'FEB,VT,1.0',\n 'MAR,NJ,2.0',\n 'MAR,NY,1.0',\n 'MAR,VT,2.0',\n 'MAR,PA,3.0']"
     ]
    }
   ],
   "source": [
    "min_max.collect()"
   ]
  },
  {
   "cell_type": "code",
   "execution_count": 0,
   "metadata": {
    "application/vnd.databricks.v1+cell": {
     "cellMetadata": {},
     "inputWidgets": {},
     "nuid": "85eb7829-21f6-4918-87e0-ab45a15bd2bc",
     "showTitle": false,
     "title": ""
    }
   },
   "outputs": [
    {
     "output_type": "stream",
     "name": "stdout",
     "output_type": "stream",
     "text": [
      "Out[37]: [('NY', '1.0'), ('CT', '4.0'), ('PA', '1.0'), ('NJ', '1.0'), ('VT', '1.0')]"
     ]
    }
   ],
   "source": [
    "#min_value\n",
    "min_max.map(lambda x: x.split(',')).map(lambda x: (x[1],x[-1])).reduceByKey(lambda x,y: x if x<y else y).collect()"
   ]
  },
  {
   "cell_type": "code",
   "execution_count": 0,
   "metadata": {
    "application/vnd.databricks.v1+cell": {
     "cellMetadata": {},
     "inputWidgets": {},
     "nuid": "028a0b56-d6b2-4fe0-9ade-d9c596a5b3a2",
     "showTitle": false,
     "title": ""
    }
   },
   "outputs": [
    {
     "output_type": "stream",
     "name": "stdout",
     "output_type": "stream",
     "text": [
      "Out[38]: [('NY', '3.0'), ('CT', '4.0'), ('PA', '3.0'), ('NJ', '2.0'), ('VT', '2.0')]"
     ]
    }
   ],
   "source": [
    "#max_value\n",
    "min_max.map(lambda x: x.split(',')).map(lambda x: (x[1],x[-1])).reduceByKey(lambda x,y: x if x>y else y).collect()"
   ]
  },
  {
   "cell_type": "code",
   "execution_count": 0,
   "metadata": {
    "application/vnd.databricks.v1+cell": {
     "cellMetadata": {},
     "inputWidgets": {},
     "nuid": "40ff1b33-1c35-456f-b975-bad2250a048f",
     "showTitle": false,
     "title": ""
    }
   },
   "outputs": [],
   "source": [
    "strdd=sc.textFile('/FileStore/tables/student.csv')"
   ]
  },
  {
   "cell_type": "code",
   "execution_count": 0,
   "metadata": {
    "application/vnd.databricks.v1+cell": {
     "cellMetadata": {},
     "inputWidgets": {},
     "nuid": "de84ecfd-5992-4f86-9603-64bcf75e5f49",
     "showTitle": false,
     "title": ""
    }
   },
   "outputs": [
    {
     "output_type": "stream",
     "name": "stdout",
     "output_type": "stream",
     "text": [
      "Out[40]: ['age,gender,name,course,roll,marks,email',\n '28,Female,Hubert Oliveras,DB,02984,59,Annika Hoffman_Naoma Fritts@OOP.com',\n '29,Female,Toshiko Hillyard,Cloud,12899,62,Margene Moores_Marylee Capasso@DB.com',\n '28,Male,Celeste Lollis,PF,21267,45,Jeannetta Golden_Jenna Montague@DSA.com',\n '29,Female,Elenore Choy,DB,32877,29,Billi Clore_Mitzi Seldon@DB.com',\n '28,Male,Sheryll Towler,DSA,41487,41,Claude Panos_Judie Chipps@OOP.com',\n '28,Male,Margene Moores,MVC,52771,32,Toshiko Hillyard_Clementina Menke@MVC.com',\n '28,Male,Neda Briski,OOP,61973,69,Alberta Freund_Elenore Choy@DB.com',\n '28,Female,Claude Panos,Cloud,72409,85,Sheryll Towler_Alberta Freund@Cloud.com',\n '28,Male,Celeste Lollis,MVC,81492,64,Nicole Harwood_Claude Panos@MVC.com',\n '29,Male,Cordie Harnois,OOP,92882,51,Judie Chipps_Clementina Menke@MVC.com',\n '29,Female,Kena Wild,DSA,102285,35,Dustin Feagins_Margene Moores@OOP.com',\n '29,Male,Ernest Rossbach,DB,111449,53,Maybell Duguay_Abram Nagao@OOP.com',\n '28,Female,Latia Vanhoose,DB,122502,27,Latia Vanhoose_Mitzi Seldon@OOP.com',\n '29,Female,Latia Vanhoose,MVC,132110,55,Eda Neathery_Nicole Harwood@Cloud.com',\n '29,Male,Neda Briski,PF,141770,42,Margene Moores_Michelle Ruggiero@MVC.com',\n '29,Female,Latia Vanhoose,DB,152159,27,Claude Panos_Santa Kerfien@DB.com',\n '29,Male,Loris Crossett,MVC,161771,36,Mitzi Seldon_Jenna Montague@MVC.com',\n '29,Male,Annika Hoffman,OOP,171660,22,Taryn Brownlee_Mitzi Seldon@MVC.com',\n '29,Male,Santa Kerfien,PF,182129,56,Judie Chipps_Taryn Brownlee@Cloud.com',\n '28,Female,Mickey Cortright,DB,192537,62,Ernest Rossbach_Marylee Capasso@Cloud.com',\n '29,Female,Loris Crossett,PF,201487,96,Elenore Choy_Latia Vanhoose@Cloud.com',\n '29,Female,Niki Klimek,PF,211508,23,Cordie Harnois_Judie Chipps@PF.com',\n '28,Female,Kena Wild,Cloud,221750,60,Mitzi Seldon_Jenna Montague@DSA.com',\n '28,Female,Jc Andrepont,DSA,232060,58,Billi Clore_Abram Nagao@MVC.com',\n '29,Female,Anna Santos,Cloud,242254,68,Jc Andrepont_Hubert Oliveras@Cloud.com',\n '28,Female,Alberta Freund,OOP,251805,83,Annika Hoffman_Sheryll Towler@MVC.com',\n '28,Female,Maybell Duguay,Cloud,261439,20,Nicole Harwood_Judie Chipps@DB.com',\n '29,Female,Paris Hutton,DSA,271472,99,Sheryll Towler_Alberta Freund@DSA.com',\n '29,Female,Cheri Kenney,Cloud,281408,43,Annika Hoffman_Melani Engberg@Cloud.com',\n '28,Female,Dustin Feagins,DSA,291984,82,Abram Nagao_Kena Wild@Cloud.com',\n '29,Female,Claude Panos,Cloud,302130,59,Sheryll Towler_Leontine Phillips@PF.com',\n '28,Female,Anna Santos,DB,311589,79,Celeste Lollis_Mickey Cortright@DSA.com',\n '28,Female,Cheri Kenney,MVC,321816,24,Kena Wild_Michelle Ruggiero@DB.com',\n '28,Female,Loris Crossett,PF,332739,62,Michelle Ruggiero_Clementina Menke@DB.com',\n '28,Female,Mickey Cortright,DSA,342003,44,Mitzi Seldon_Jeannetta Golden@PF.com',\n '28,Male,Hubert Oliveras,OOP,351719,63,Lawanda Wohlwend_Abram Nagao@MVC.com',\n '28,Male,Sebrina Maresca,PF,361316,62,Nicole Harwood_Latia Vanhoose@DB.com',\n '29,Male,Jalisa Swenson,PF,372873,45,Ernest Rossbach_Toshiko Hillyard@DB.com',\n '28,Male,Kizzy Brenner,DB,381712,36,Paris Hutton_Kena Wild@MVC.com',\n '28,Male,Toshiko Hillyard,DB,392218,47,Leontine Phillips_Billi Clore@MVC.com',\n '28,Female,Kizzy Brenner,Cloud,402409,27,Ernest Rossbach_Gonzalo Ferebee@OOP.com',\n '29,Female,Anna Santos,DSA,411479,42,Kena Wild_Mitzi Seldon@DB.com',\n '28,Male,Elenore Choy,PF,422704,66,Marylee Capasso_Nicole Harwood@MVC.com',\n '28,Female,Jalisa Swenson,OOP,431352,25,Gonzalo Ferebee_Judie Chipps@DB.com',\n '29,Female,Somer Stoecker,Cloud,442028,34,Taryn Brownlee_Taryn Brownlee@MVC.com',\n '28,Female,Maybell Duguay,DSA,452141,29,Leontine Phillips_Elenore Choy@Cloud.com',\n '28,Male,Dustin Feagins,PF,461839,51,Neda Briski_Elenore Choy@Cloud.com',\n '29,Male,Annika Hoffman,OOP,472550,35,Mitzi Seldon_Abram Nagao@DSA.com',\n '29,Male,Paris Hutton,DB,481229,57,Clementina Menke_Paris Hutton@MVC.com',\n '29,Female,Paris Hutton,DSA,492159,60,Nicole Harwood_Marylee Capasso@OOP.com',\n '29,Female,Jenna Montague,MVC,502585,43,Hubert Oliveras_Jc Andrepont@DSA.com',\n '29,Male,Billi Clore,Cloud,512047,76,Taryn Brownlee_Judie Chipps@DSA.com',\n '29,Male,Toshiko Hillyard,OOP,521221,77,Hubert Oliveras_Latia Vanhoose@MVC.com',\n '28,Male,Margene Moores,PF,531530,53,Cheri Kenney_Melani Engberg@OOP.com',\n '29,Female,Claude Panos,OOP,542821,28,Hubert Oliveras_Priscila Tavernier@PF.com',\n '28,Female,Mickey Cortright,DB,551389,43,Tijuana Kropf_Jenna Montague@DB.com',\n '29,Male,Celeste Lollis,DSA,562065,85,Jc Andrepont_Melani Engberg@OOP.com',\n '28,Female,Tijuana Kropf,PF,571047,41,Loris Crossett_Sebrina Maresca@PF.com',\n '28,Male,Marylee Capasso,OOP,581756,52,Jeannetta Golden_Loris Crossett@MVC.com',\n '29,Male,Maybell Duguay,DSA,592061,83,Eda Neathery_Jenna Montague@Cloud.com',\n '28,Female,Leontine Phillips,DB,602404,48,Neda Briski_Cheri Kenney@PF.com',\n '28,Female,Somer Stoecker,Cloud,612490,82,Sebrina Maresca_Gonzalo Ferebee@DSA.com',\n '28,Male,Mitzi Seldon,DSA,622981,45,Lawanda Wohlwend_Loris Crossett@DSA.com',\n '29,Female,Judie Chipps,Cloud,632793,75,Tijuana Kropf_Elenore Choy@PF.com',\n '28,Male,Priscila Tavernier,PF,642594,27,Marylee Capasso_Claude Panos@DSA.com',\n '29,Male,Tamera Blakley,MVC,651649,92,Latia Vanhoose_Toshiko Hillyard@MVC.com',\n '28,Male,Sheryll Towler,MVC,661079,89,Tijuana Kropf_Mickey Cortright@DB.com',\n '29,Male,Hubert Oliveras,MVC,672451,28,Annika Hoffman_Mickey Cortright@DSA.com',\n '29,Male,Sheryll Towler,PF,682533,42,Billi Clore_Anna Santos@PF.com',\n '28,Female,Jenna Montague,DSA,691564,26,Mitzi Seldon_Sebrina Maresca@Cloud.com',\n '29,Male,Maybell Duguay,PF,701486,99,Clementina Menke_Latia Vanhoose@Cloud.com',\n '29,Male,Jenna Montague,MVC,711153,45,Marylee Capasso_Hubert Oliveras@DB.com',\n '28,Male,Annika Hoffman,Cloud,722193,55,Taryn Brownlee_Elenore Choy@DB.com',\n '28,Female,Celeste Lollis,DSA,731879,76,Hubert Oliveras_Gonzalo Ferebee@DSA.com',\n '29,Male,Jeannetta Golden,MVC,741875,57,Sheryll Towler_Cheri Kenney@DSA.com',\n '29,Male,Paris Hutton,MVC,752504,22,Elenore Choy_Elenore Choy@DB.com',\n '29,Female,Margene Moores,MVC,761843,48,Ernest Rossbach_Mickey Cortright@DSA.com',\n '28,Female,Hubert Oliveras,DB,771081,79,Kizzy Brenner_Dustin Feagins@MVC.com',\n '28,Male,Alberta Freund,PF,781061,75,Leontine Phillips_Bonita Higuera@PF.com',\n '29,Female,Billi Clore,OOP,791519,93,Elenore Choy_Jalisa Swenson@MVC.com',\n '28,Female,Billi Clore,Cloud,801693,38,Niki Klimek_Kizzy Brenner@DB.com',\n '29,Female,Elenore Choy,DB,811824,55,Maybell Duguay_Melani Engberg@DB.com',\n '28,Male,Anna Santos,OOP,822396,47,Leontine Phillips_Gonzalo Ferebee@Cloud.com',\n '28,Male,Sheryll Towler,DSA,831562,59,Kena Wild_Gonzalo Ferebee@Cloud.com',\n '29,Male,Neda Briski,PF,842515,68,Neda Briski_Hubert Oliveras@OOP.com',\n '28,Female,Santa Kerfien,Cloud,851620,34,Melani Engberg_Sheryll Towler@PF.com',\n '29,Female,Taryn Brownlee,MVC,861849,39,Billi Clore_Toshiko Hillyard@MVC.com',\n '28,Female,Sheryll Towler,DSA,871967,64,Michelle Ruggiero_Billi Clore@Cloud.com',\n '29,Male,Clementina Menke,DB,882200,76,Michelle Ruggiero_Jenna Montague@MVC.com',\n '28,Male,Margene Moores,DSA,892010,93,Anna Santos_Naoma Fritts@DSA.com',\n '28,Female,Somer Stoecker,DSA,901958,64,Kizzy Brenner_Jc Andrepont@DB.com',\n '29,Male,Loris Crossett,PF,911593,46,Gonzalo Ferebee_Mitzi Seldon@PF.com',\n '29,Female,Sebrina Maresca,DB,922210,54,Toshiko Hillyard_Santa Kerfien@MVC.com',\n '29,Male,Naoma Fritts,DB,931295,79,Hubert Oliveras_Sheryll Towler@DSA.com',\n '28,Female,Santa Kerfien,MVC,941783,94,Paris Hutton_Naoma Fritts@DB.com',\n '28,Female,Lawanda Wohlwend,DSA,951686,60,Loris Crossett_Nicole Harwood@DSA.com',\n '29,Male,Abram Nagao,MVC,962235,32,Jenna Montague_Gonzalo Ferebee@DSA.com',\n '28,Female,Jc Andrepont,PF,972733,20,Eda Neathery_Eda Neathery@MVC.com',\n '29,Male,Niki Klimek,PF,982443,94,Santa Kerfien_Kizzy Brenner@DB.com',\n '28,Female,Marylee Capasso,OOP,991770,86,Margene Moores_Clementina Menke@DB.com',\n '28,Male,Jenna Montague,DSA,1002103,36,Melani Engberg_Hubert Oliveras@PF.com',\n '29,Female,Eda Neathery,Cloud,1011971,91,Margene Moores_Elenore Choy@MVC.com',\n '29,Male,Michelle Ruggiero,DSA,1022971,99,Cordie Harnois_Clementina Menke@OOP.com',\n '28,Male,Annika Hoffman,DB,1031544,44,Dustin Feagins_Somer Stoecker@DB.com',\n '29,Female,Hubert Oliveras,DSA,1041483,28,Billi Clore_Santa Kerfien@DSA.com',\n '28,Male,Billi Clore,MVC,1052566,78,Naoma Fritts_Margene Moores@DSA.com',\n '28,Female,Nicole Harwood,MVC,1061068,82,Santa Kerfien_Hubert Oliveras@MVC.com',\n '29,Male,Clementina Menke,PF,1071717,54,Celeste Lollis_Leontine Phillips@OOP.com',\n '28,Female,Claude Panos,OOP,1081294,94,Kizzy Brenner_Anna Santos@OOP.com',\n '29,Male,Donna Yerby,DSA,1092702,79,Marylee Capasso_Alberta Freund@OOP.com',\n '29,Female,Maybell Duguay,MVC,1102536,22,Somer Stoecker_Marylee Capasso@OOP.com',\n '29,Male,Abram Nagao,PF,1112161,42,Nicole Harwood_Niki Klimek@DB.com',\n '28,Female,Bonita Higuera,DSA,1122348,51,Somer Stoecker_Jenna Montague@DB.com',\n '29,Female,Melani Engberg,OOP,1132093,76,Kena Wild_Neda Briski@Cloud.com',\n '29,Female,Marylee Capasso,OOP,1142653,61,Cordie Harnois_Alberta Freund@DSA.com',\n '29,Male,Nicole Harwood,Cloud,1152571,62,Latia Vanhoose_Maybell Duguay@PF.com',\n '29,Female,Dustin Feagins,OOP,1161607,37,Eda Neathery_Marylee Capasso@MVC.com',\n '28,Female,Niki Klimek,PF,1172784,24,Jeannetta Golden_Abram Nagao@MVC.com',\n '29,Female,Abram Nagao,DSA,1181007,57,Anna Santos_Anna Santos@DSA.com',\n '28,Male,Jalisa Swenson,PF,1192555,77,Marylee Capasso_Celeste Lollis@Cloud.com',\n '29,Female,Ernest Rossbach,MVC,1201427,80,Elenore Choy_Jenna Montague@OOP.com',\n '28,Male,Nicole Harwood,DB,1211495,28,Melani Engberg_Jc Andrepont@Cloud.com',\n '29,Female,Claude Panos,DB,1222887,75,Hubert Oliveras_Somer Stoecker@Cloud.com',\n '28,Female,Cordie Harnois,OOP,1231943,68,Mickey Cortright_Kizzy Brenner@OOP.com',\n '28,Male,Nicole Harwood,OOP,1242426,71,Billi Clore_Loris Crossett@Cloud.com',\n '28,Male,Gonzalo Ferebee,Cloud,1251176,60,Santa Kerfien_Tamera Blakley@PF.com',\n '29,Male,Jalisa Swenson,Cloud,1261533,70,Dustin Feagins_Nicole Harwood@PF.com',\n '28,Female,Eda Neathery,Cloud,1272870,69,Somer Stoecker_Dustin Feagins@DB.com',\n '28,Female,Toshiko Hillyard,DSA,1282835,79,Somer Stoecker_Toshiko Hillyard@OOP.com',\n '28,Male,Paris Hutton,MVC,1292279,26,Paris Hutton_Eda Neathery@DSA.com',\n '29,Female,Niki Klimek,DB,1301784,24,Celeste Lollis_Tamera Blakley@DB.com',\n '28,Male,Bonita Higuera,Cloud,1312294,94,Eda Neathery_Priscila Tavernier@PF.com',\n '28,Female,Leontine Phillips,MVC,1322629,87,Judie Chipps_Michelle Ruggiero@Cloud.com',\n '29,Male,Jalisa Swenson,PF,1332072,88,Billi Clore_Kizzy Brenner@Cloud.com',\n '28,Male,Clementina Menke,OOP,1341574,46,Elenore Choy_Mickey Cortright@DB.com',\n '28,Male,Gonzalo Ferebee,PF,1352348,95,Neda Briski_Somer Stoecker@DB.com',\n '29,Female,Jalisa Swenson,DSA,1362151,51,Lawanda Wohlwend_Jenna Montague@PF.com',\n '28,Male,Lawanda Wohlwend,PF,1372552,88,Hubert Oliveras_Tijuana Kropf@DSA.com',\n '28,Male,Abram Nagao,DSA,1382959,66,Michelle Ruggiero_Kena Wild@OOP.com',\n '29,Female,Hubert Oliveras,Cloud,1392791,94,Anna Santos_Alberta Freund@Cloud.com',\n '28,Male,Bonita Higuera,Cloud,1401526,24,Jc Andrepont_Cheri Kenney@Cloud.com',\n '29,Female,Clementina Menke,OOP,1412376,65,Elenore Choy_Latia Vanhoose@DSA.com',\n '29,Female,Mickey Cortright,Cloud,1421542,71,Latia Vanhoose_Kena Wild@OOP.com',\n '29,Female,Leontine Phillips,DB,1432252,67,Billi Clore_Sheryll Towler@DB.com',\n '28,Female,Nicole Harwood,PF,1441367,95,Jc Andrepont_Anna Santos@DSA.com',\n '28,Female,Gonzalo Ferebee,DB,1451513,69,Claude Panos_Tamera Blakley@PF.com',\n '29,Female,Judie Chipps,DB,1461078,31,Tijuana Kropf_Billi Clore@OOP.com',\n '29,Male,Niki Klimek,MVC,1472917,36,Sebrina Maresca_Sheryll Towler@MVC.com',\n '29,Female,Lawanda Wohlwend,MVC,1482889,65,Gonzalo Ferebee_Dustin Feagins@PF.com',\n '28,Male,Jc Andrepont,DSA,1492828,78,Celeste Lollis_Kizzy Brenner@MVC.com',\n '28,Female,Cordie Harnois,MVC,1501333,94,Gonzalo Ferebee_Tijuana Kropf@OOP.com',\n '29,Female,Taryn Brownlee,OOP,1511213,72,Cheri Kenney_Donna Yerby@DSA.com',\n '28,Male,Hubert Oliveras,PF,1521724,91,Eda Neathery_Jeannetta Golden@MVC.com',\n '29,Female,Naoma Fritts,MVC,1532260,73,Elenore Choy_Judie Chipps@DSA.com',\n '28,Female,Marylee Capasso,Cloud,1541030,58,Cordie Harnois_Celeste Lollis@PF.com',\n '29,Female,Annika Hoffman,OOP,1551846,50,Paris Hutton_Melani Engberg@DB.com',\n '28,Female,Jeannetta Golden,OOP,1562758,40,Jeannetta Golden_Billi Clore@Cloud.com',\n '29,Female,Cheri Kenney,MVC,1571310,88,Cordie Harnois_Lawanda Wohlwend@MVC.com',\n '29,Female,Jeannetta Golden,PF,1581770,39,Bonita Higuera_Santa Kerfien@OOP.com',\n '28,Female,Tamera Blakley,PF,1591554,78,Sebrina Maresca_Tijuana Kropf@OOP.com',\n '28,Male,Paris Hutton,MVC,1602777,53,Sheryll Towler_Loris Crossett@DSA.com',\n '28,Male,Marylee Capasso,DB,1611411,96,Annika Hoffman_Loris Crossett@PF.com',\n '28,Male,Anna Santos,OOP,1621905,24,Elenore Choy_Santa Kerfien@DB.com',\n '28,Male,Neda Briski,DSA,1632185,93,Clementina Menke_Toshiko Hillyard@Cloud.com',\n '29,Female,Michelle Ruggiero,DB,1642509,45,Hubert Oliveras_Marylee Capasso@DB.com',\n '28,Female,Neda Briski,Cloud,1651303,74,Ernest Rossbach_Donna Yerby@OOP.com',\n '28,Female,Loris Crossett,DSA,1662549,86,Paris Hutton_Latia Vanhoose@Cloud.com',\n '29,Male,Alberta Freund,DB,1671638,98,Clementina Menke_Jalisa Swenson@Cloud.com',\n '28,Female,Sebrina Maresca,MVC,1681804,27,Celeste Lollis_Ernest Rossbach@MVC.com',\n '28,Male,Celeste Lollis,DB,1692106,36,Neda Briski_Abram Nagao@MVC.com',\n '29,Female,Anna Santos,DSA,1702439,64,Naoma Fritts_Toshiko Hillyard@DB.com',\n '28,Female,Margene Moores,DSA,1712967,41,Tijuana Kropf_Sheryll Towler@DB.com',\n '28,Female,Priscila Tavernier,DB,1722388,86,Lawanda Wohlwend_Loris Crossett@DSA.com',\n '29,Female,Jc Andrepont,MVC,1731652,74,Hubert Oliveras_Michelle Ruggiero@DSA.com',\n '28,Female,Anna Santos,DSA,1741879,89,Nicole Harwood_Lawanda Wohlwend@DB.com',\n '29,Female,Lawanda Wohlwend,MVC,1751381,75,Jalisa Swenson_Nicole Harwood@OOP.com',\n '29,Male,Nicole Harwood,MVC,1761454,34,Taryn Brownlee_Billi Clore@DSA.com',\n '29,Male,Claude Panos,DSA,1771605,50,Claude Panos_Tamera Blakley@OOP.com',\n '29,Male,Dustin Feagins,DB,1782045,81,Cordie Harnois_Toshiko Hillyard@OOP.com',\n '29,Male,Toshiko Hillyard,DSA,1791364,50,Jc Andrepont_Nicole Harwood@MVC.com',\n '28,Male,Alberta Freund,Cloud,1802934,24,Maybell Duguay_Paris Hutton@PF.com',\n '29,Female,Tijuana Kropf,MVC,1811192,51,Anna Santos_Latia Vanhoose@DSA.com',\n '29,Female,Ernest Rossbach,Cloud,1821977,28,Annika Hoffman_Kizzy Brenner@DSA.com',\n '29,Male,Latia Vanhoose,Cloud,1832268,60,Marylee Capasso_Santa Kerfien@MVC.com',\n '29,Male,Alberta Freund,OOP,1841931,37,Jenna Montague_Taryn Brownlee@Cloud.com',\n '28,Female,Lawanda Wohlwend,DB,1852072,30,Bonita Higuera_Jenna Montague@DB.com',\n '29,Male,Celeste Lollis,PF,1861656,67,Niki Klimek_Lawanda Wohlwend@DB.com',\n '28,Female,Melani Engberg,Cloud,1872667,99,Alberta Freund_Nicole Harwood@DB.com',\n '29,Male,Tijuana Kropf,DB,1882795,92,Hubert Oliveras_Elenore Choy@Cloud.com',\n '28,Male,Somer Stoecker,Cloud,1891261,30,Taryn Brownlee_Sheryll Towler@PF.com',\n '28,Male,Ernest Rossbach,DB,1901492,54,Latia Vanhoose_Jc Andrepont@MVC.com',\n '28,Female,Anna Santos,PF,1911870,92,Sebrina Maresca_Clementina Menke@OOP.com',\n '28,Female,Melani Engberg,PF,1922525,83,Marylee Capasso_Celeste Lollis@PF.com',\n '29,Male,Sebrina Maresca,PF,1932455,23,Tijuana Kropf_Naoma Fritts@Cloud.com',\n '29,Male,Marylee Capasso,DSA,1942185,37,Tijuana Kropf_Latia Vanhoose@DSA.com',\n '29,Male,Jeannetta Golden,Cloud,1952763,67,Jenna Montague_Jeannetta Golden@OOP.com',\n '29,Male,Niki Klimek,MVC,1962371,78,Marylee Capasso_Mickey Cortright@PF.com',\n '29,Female,Leontine Phillips,DB,1972893,64,Marylee Capasso_Elenore Choy@OOP.com',\n '29,Male,Tamera Blakley,OOP,1981124,46,Taryn Brownlee_Eda Neathery@DB.com',\n '28,Male,Santa Kerfien,MVC,1992202,23,Annika Hoffman_Tamera Blakley@OOP.com',\n '29,Female,Donna Yerby,OOP,2002040,85,Jeannetta Golden_Clementina Menke@OOP.com',\n '29,Male,Somer Stoecker,OOP,2011301,47,Somer Stoecker_Anna Santos@MVC.com',\n '28,Male,Billi Clore,PF,2022282,77,Anna Santos_Claude Panos@Cloud.com',\n '28,Male,Kena Wild,DB,2031530,93,Jc Andrepont_Jc Andrepont@PF.com',\n '29,Female,Abram Nagao,DSA,2041248,72,Latia Vanhoose_Kena Wild@DSA.com',\n '28,Female,Paris Hutton,Cloud,2051881,79,Melani Engberg_Marylee Capasso@PF.com',\n '28,Female,Claude Panos,OOP,2061187,58,Cheri Kenney_Cordie Harnois@PF.com',\n '28,Female,Eda Neathery,Cloud,2071302,95,Latia Vanhoose_Donna Yerby@Cloud.com',\n '28,Male,Marylee Capasso,DSA,2081560,20,Sheryll Towler_Donna Yerby@Cloud.com',\n '28,Male,Neda Briski,Cloud,2092176,81,Celeste Lollis_Maybell Duguay@PF.com',\n '29,Male,Donna Yerby,DSA,2102495,97,Paris Hutton_Celeste Lollis@PF.com',\n '29,Male,Judie Chipps,DB,2112234,94,Dustin Feagins_Tamera Blakley@PF.com',\n '28,Female,Tijuana Kropf,Cloud,2121632,78,Michelle Ruggiero_Anna Santos@OOP.com',\n '29,Male,Jeannetta Golden,MVC,2132781,93,Kizzy Brenner_Cheri Kenney@MVC.com',\n '29,Male,Naoma Fritts,PF,2141246,91,Mitzi Seldon_Cordie Harnois@Cloud.com',\n '29,Male,Somer Stoecker,MVC,2151024,36,Loris Crossett_Tamera Blakley@DB.com',\n '28,Male,Toshiko Hillyard,PF,2162776,54,Jenna Montague_Niki Klimek@MVC.com',\n '28,Male,Jeannetta Golden,DB,2171387,76,Cheri Kenney_Billi Clore@DB.com',\n '28,Female,Billi Clore,DB,2181375,58,Latia Vanhoose_Eda Neathery@DSA.com',\n '29,Female,Annika Hoffman,PF,2192313,49,Naoma Fritts_Tijuana Kropf@DB.com',\n '29,Male,Mitzi Seldon,Cloud,2202649,43,Santa Kerfien_Loris Crossett@Cloud.com',\n '29,Female,Niki Klimek,DB,2211319,61,Celeste Lollis_Sheryll Towler@DB.com',\n '28,Male,Jalisa Swenson,DSA,2222704,91,Judie Chipps_Jalisa Swenson@Cloud.com',\n '28,Male,Priscila Tavernier,OOP,2232863,60,Bonita Higuera_Lawanda Wohlwend@MVC.com',\n '29,Male,Margene Moores,Cloud,2241434,71,Mitzi Seldon_Michelle Ruggiero@Cloud.com',\n '28,Female,Jc Andrepont,MVC,2251960,96,Somer Stoecker_Melani Engberg@DSA.com',\n '29,Female,Gonzalo Ferebee,OOP,2262603,21,Bonita Higuera_Cheri Kenney@PF.com',\n '29,Female,Bonita Higuera,OOP,2272587,46,Gonzalo Ferebee_Toshiko Hillyard@DB.com',\n '28,Female,Cheri Kenney,Cloud,2281771,22,Tamera Blakley_Abram Nagao@OOP.com',\n '28,Female,Marylee Capasso,Cloud,2291595,36,Ernest Rossbach_Mickey Cortright@MVC.com',\n '29,Male,Annika Hoffman,PF,2301940,81,Jenna Montague_Sheryll Towler@Cloud.com',\n '29,Female,Bonita Higuera,DSA,2312783,77,Melani Engberg_Mitzi Seldon@DSA.com',\n '28,Male,Kizzy Brenner,DB,2322537,56,Jenna Montague_Latia Vanhoose@MVC.com',\n '29,Male,Michelle Ruggiero,Cloud,2332207,72,Gonzalo Ferebee_Melani Engberg@OOP.com',\n '29,Male,Alberta Freund,DSA,2341989,68,Jeannetta Golden_Priscila Tavernier@PF.com',\n '29,Female,Somer Stoecker,OOP,2352466,67,Jenna Montague_Mitzi Seldon@MVC.com',\n '29,Male,Mickey Cortright,OOP,2361202,59,Kizzy Brenner_Eda Neathery@MVC.com',\n '29,Male,Latia Vanhoose,OOP,2372748,94,Latia Vanhoose_Latia Vanhoose@OOP.com',\n '29,Male,Naoma Fritts,OOP,2382829,37,Ernest Rossbach_Celeste Lollis@PF.com',\n '28,Female,Taryn Brownlee,DSA,2392929,91,Sebrina Maresca_Jenna Montague@Cloud.com',\n '28,Female,Jenna Montague,Cloud,2402240,96,Annika Hoffman_Dustin Feagins@Cloud.com',\n '28,Male,Melani Engberg,MVC,2412019,54,Latia Vanhoose_Melani Engberg@DSA.com',\n '29,Female,Dustin Feagins,Cloud,2421900,89,Niki Klimek_Latia Vanhoose@Cloud.com',\n '28,Female,Santa Kerfien,Cloud,2431828,26,Margene Moores_Somer Stoecker@PF.com',\n '28,Female,Jenna Montague,MVC,2441637,72,Cordie Harnois_Alberta Freund@OOP.com',\n '28,Male,Sebrina Maresca,Cloud,2452108,41,Billi Clore_Loris Crossett@DSA.com',\n '28,Male,Judie Chipps,DB,2461986,53,Niki Klimek_Judie Chipps@MVC.com',\n '29,Male,Jenna Montague,DSA,2472773,81,Margene Moores_Bonita Higuera@DSA.com',\n '29,Female,Nicole Harwood,MVC,2481418,91,Kizzy Brenner_Priscila Tavernier@DB.com',\n '29,Male,Cheri Kenney,Cloud,2491705,64,Toshiko Hillyard_Mickey Cortright@PF.com',\n '28,Female,Bonita Higuera,DSA,2501639,66,Paris Hutton_Naoma Fritts@PF.com',\n '29,Female,Marylee Capasso,DSA,2512456,75,Mitzi Seldon_Donna Yerby@Cloud.com',\n '28,Female,Jeannetta Golden,DB,2522775,83,Kizzy Brenner_Bonita Higuera@DB.com',\n '29,Female,Annika Hoffman,PF,2532233,74,Somer Stoecker_Annika Hoffman@MVC.com',\n '28,Female,Kizzy Brenner,OOP,2542257,96,Eda Neathery_Lawanda Wohlwend@Cloud.com',\n '28,Male,Priscila Tavernier,Cloud,2552194,42,Jeannetta Golden_Abram Nagao@PF.com',\n '28,Male,Claude Panos,OOP,2562357,50,Naoma Fritts_Anna Santos@Cloud.com',\n '28,Male,Gonzalo Ferebee,MVC,2572197,43,Marylee Capasso_Jc Andrepont@DB.com',\n '29,Male,Nicole Harwood,Cloud,2581369,26,Paris Hutton_Alberta Freund@MVC.com',\n '28,Male,Paris Hutton,OOP,2592369,60,Taryn Brownlee_Sheryll Towler@OOP.com',\n '28,Female,Ernest Rossbach,Cloud,2602027,83,Alberta Freund_Gonzalo Ferebee@MVC.com',\n '28,Male,Sheryll Towler,DSA,2612360,27,Celeste Lollis_Paris Hutton@OOP.com',\n '28,Male,Mitzi Seldon,DB,2622118,55,Mickey Cortright_Mitzi Seldon@MVC.com',\n '28,Female,Abram Nagao,DB,2632057,25,Margene Moores_Somer Stoecker@DB.com',\n '28,Male,Billi Clore,PF,2642909,58,Loris Crossett_Sebrina Maresca@OOP.com',\n '28,Male,Abram Nagao,Cloud,2652463,21,Eda Neathery_Annika Hoffman@Cloud.com',\n '29,Male,Tamera Blakley,DSA,2661934,23,Alberta Freund_Tijuana Kropf@Cloud.com',\n '29,Female,Naoma Fritts,PF,2672130,49,Kizzy Brenner_Alberta Freund@Cloud.com',\n '28,Female,Maybell Duguay,Cloud,2682466,36,Priscila Tavernier_Mitzi Seldon@PF.com',\n '28,Female,Loris Crossett,OOP,2691881,29,Maybell Duguay_Niki Klimek@OOP.com',\n '28,Male,Mitzi Seldon,PF,2701239,76,Alberta Freund_Cordie Harnois@Cloud.com',\n '29,Male,Sebrina Maresca,PF,2712040,23,Jeannetta Golden_Judie Chipps@DB.com',\n '29,Male,Somer Stoecker,PF,2721652,36,Tijuana Kropf_Michelle Ruggiero@Cloud.com',\n '28,Male,Santa Kerfien,DB,2732421,79,Claude Panos_Alberta Freund@DB.com',\n '28,Female,Billi Clore,MVC,2741290,32,Abram Nagao_Elenore Choy@MVC.com',\n '29,Female,Nicole Harwood,DSA,2751838,47,Donna Yerby_Lawanda Wohlwend@MVC.com',\n '29,Female,Sheryll Towler,DSA,2762045,88,Eda Neathery_Priscila Tavernier@DSA.com',\n '28,Male,Clementina Menke,DSA,2772189,98,Donna Yerby_Judie Chipps@PF.com',\n '29,Male,Tijuana Kropf,Cloud,2781801,68,Alberta Freund_Cordie Harnois@Cloud.com',\n '28,Female,Billi Clore,PF,2792977,71,Jalisa Swenson_Nicole Harwood@MVC.com',\n '29,Female,Eda Neathery,DB,2802988,72,Jenna Montague_Toshiko Hillyard@Cloud.com',\n '28,Female,Abram Nagao,Cloud,2811189,54,Kena Wild_Donna Yerby@DSA.com',\n '29,Female,Eda Neathery,MVC,2821243,97,Tamera Blakley_Eda Neathery@DB.com',\n '29,Male,Leontine Phillips,PF,2832158,26,Margene Moores_Claude Panos@MVC.com',\n '29,Male,Abram Nagao,DB,2841061,25,Leontine Phillips_Toshiko Hillyard@Cloud.com',\n '28,Male,Loris Crossett,OOP,2852490,25,Loris Crossett_Donna Yerby@DSA.com',\n '29,Female,Latia Vanhoose,PF,2861854,42,Claude Panos_Nicole Harwood@DSA.com',\n '28,Female,Michelle Ruggiero,PF,2872130,70,Cheri Kenney_Lawanda Wohlwend@DSA.com',\n '28,Female,Alberta Freund,OOP,2881304,62,Loris Crossett_Jc Andrepont@Cloud.com',\n '28,Male,Michelle Ruggiero,DB,2891164,60,Gonzalo Ferebee_Priscila Tavernier@DSA.com',\n '29,Female,Naoma Fritts,MVC,2902779,60,Sebrina Maresca_Niki Klimek@PF.com',\n '29,Male,Niki Klimek,DB,2912538,67,Jc Andrepont_Mitzi Seldon@DSA.com',\n '28,Male,Gonzalo Ferebee,Cloud,2922041,38,Clementina Menke_Taryn Brownlee@OOP.com',\n '28,Female,Kena Wild,PF,2931712,52,Melani Engberg_Leontine Phillips@PF.com',\n '29,Male,Melani Engberg,DB,2941257,98,Claude Panos_Kena Wild@DB.com',\n '29,Male,Billi Clore,DSA,2952091,52,Jenna Montague_Mickey Cortright@DB.com',\n '29,Male,Claude Panos,PF,2961015,33,Elenore Choy_Santa Kerfien@DSA.com',\n '29,Female,Jenna Montague,DSA,2972673,71,Toshiko Hillyard_Naoma Fritts@DB.com',\n '28,Female,Dustin Feagins,PF,2981342,86,Somer Stoecker_Neda Briski@Cloud.com',\n '29,Male,Latia Vanhoose,MVC,2992281,90,Elenore Choy_Cordie Harnois@DSA.com',\n '29,Male,Margene Moores,PF,3002277,32,Somer Stoecker_Maybell Duguay@DSA.com',\n '28,Male,Leontine Phillips,Cloud,3011586,76,Dustin Feagins_Alberta Freund@DB.com',\n '29,Male,Naoma Fritts,MVC,3021768,34,Bonita Higuera_Anna Santos@Cloud.com',\n '29,Female,Neda Briski,DSA,3031196,27,Jc Andrepont_Abram Nagao@DSA.com',\n '29,Female,Alberta Freund,DB,3041340,60,Celeste Lollis_Abram Nagao@PF.com',\n '29,Male,Annika Hoffman,Cloud,3051363,57,Paris Hutton_Leontine Phillips@Cloud.com',\n '29,Male,Anna Santos,Cloud,3061386,57,Michelle Ruggiero_Abram Nagao@Cloud.com',\n '29,Female,Anna Santos,DSA,3072690,36,Sheryll Towler_Latia Vanhoose@PF.com',\n '29,Female,Judie Chipps,MVC,3082254,78,Kena Wild_Anna Santos@MVC.com',\n '29,Female,Latia Vanhoose,MVC,3091650,30,Cordie Harnois_Sebrina Maresca@PF.com',\n '28,Female,Mitzi Seldon,Cloud,3101372,54,Gonzalo Ferebee_Cordie Harnois@MVC.com',\n '28,Male,Tijuana Kropf,DB,3111175,70,Latia Vanhoose_Somer Stoecker@DSA.com',\n '28,Male,Kizzy Brenner,MVC,3121184,29,Tijuana Kropf_Elenore Choy@DB.com',\n '29,Male,Nicole Harwood,OOP,3132620,88,Jeannetta Golden_Lawanda Wohlwend@PF.com',\n '29,Male,Gonzalo Ferebee,DSA,3141791,62,Ernest Rossbach_Sheryll Towler@MVC.com',\n '29,Male,Billi Clore,MVC,3152247,96,Ernest Rossbach_Clementina Menke@PF.com',\n '29,Male,Elenore Choy,Cloud,3161233,45,Dustin Feagins_Dustin Feagins@Cloud.com',\n '29,Male,Judie Chipps,MVC,3172827,67,Eda Neathery_Eda Neathery@DSA.com',\n '28,Male,Lawanda Wohlwend,Cloud,3181337,39,Sebrina Maresca_Billi Clore@MVC.com',\n '29,Male,Jalisa Swenson,DB,3192192,74,Ernest Rossbach_Cordie Harnois@DB.com',\n '29,Male,Cordie Harnois,PF,3201624,41,Maybell Duguay_Somer Stoecker@PF.com',\n '28,Male,Tijuana Kropf,MVC,3212517,48,Somer Stoecker_Mickey Cortright@PF.com',\n '28,Female,Billi Clore,DB,3221997,61,Taryn Brownlee_Santa Kerfien@PF.com',\n '29,Female,Margene Moores,Cloud,3232893,24,Elenore Choy_Niki Klimek@MVC.com',\n '29,Female,Paris Hutton,DB,3241324,72,Abram Nagao_Cordie Harnois@DSA.com',\n '28,Female,Neda Briski,PF,3251377,23,Kizzy Brenner_Mickey Cortright@DSA.com',\n '29,Female,Sebrina Maresca,Cloud,3261159,97,Maybell Duguay_Jalisa Swenson@Cloud.com',\n '28,Female,Sebrina Maresca,PF,3272192,30,Jeannetta Golden_Cordie Harnois@PF.com',\n '29,Male,Donna Yerby,PF,3282057,87,Kizzy Brenner_Loris Crossett@DB.com',\n '28,Female,Kena Wild,PF,3291691,96,Tamera Blakley_Naoma Fritts@Cloud.com',\n '29,Male,Tijuana Kropf,PF,3301891,60,Tamera Blakley_Neda Briski@DSA.com',\n '28,Female,Marylee Capasso,MVC,3312606,57,Marylee Capasso_Gonzalo Ferebee@MVC.com',\n '28,Male,Sheryll Towler,OOP,3322308,32,Clementina Menke_Naoma Fritts@OOP.com',\n '28,Male,Jenna Montague,OOP,3331161,98,Leontine Phillips_Judie Chipps@DSA.com',\n '28,Male,Mitzi Seldon,PF,3342819,68,Cheri Kenney_Naoma Fritts@PF.com',\n '28,Male,Clementina Menke,Cloud,3352508,95,Naoma Fritts_Mickey Cortright@Cloud.com',\n '28,Female,Niki Klimek,DB,3361932,27,Nicole Harwood_Bonita Higuera@DB.com',\n '29,Male,Sebrina Maresca,DB,3371719,86,Marylee Capasso_Margene Moores@DSA.com',\n '28,Male,Niki Klimek,PF,3381919,97,Hubert Oliveras_Latia Vanhoose@DB.com',\n '29,Female,Cordie Harnois,MVC,3391820,55,Paris Hutton_Alberta Freund@DB.com',\n '29,Female,Jenna Montague,DSA,3402028,40,Ernest Rossbach_Alberta Freund@DSA.com',\n '29,Male,Dustin Feagins,OOP,3412915,62,Toshiko Hillyard_Priscila Tavernier@MVC.com',\n '28,Female,Naoma Fritts,DSA,3422822,54,Nicole Harwood_Anna Santos@PF.com',\n '29,Female,Celeste Lollis,MVC,3431117,84,Dustin Feagins_Melani Engberg@DSA.com',\n '29,Female,Niki Klimek,DB,3441033,93,Hubert Oliveras_Tijuana Kropf@Cloud.com',\n '29,Female,Dustin Feagins,PF,3451343,88,Cordie Harnois_Abram Nagao@Cloud.com',\n '29,Female,Celeste Lollis,DSA,3461783,50,Loris Crossett_Ernest Rossbach@Cloud.com',\n '29,Male,Annika Hoffman,DSA,3471063,42,Bonita Higuera_Cordie Harnois@Cloud.com',\n '28,Female,Sebrina Maresca,PF,3481728,73,Billi Clore_Billi Clore@OOP.com',\n '28,Male,Taryn Brownlee,PF,3491666,76,Neda Briski_Priscila Tavernier@DB.com',\n '28,Female,Loris Crossett,OOP,3502780,30,Jenna Montague_Cordie Harnois@MVC.com',\n '29,Male,Kizzy Brenner,PF,3512215,50,Naoma Fritts_Melani Engberg@Cloud.com',\n '28,Female,Elenore Choy,OOP,3521960,90,Sebrina Maresca_Tijuana Kropf@PF.com',\n '28,Female,Loris Crossett,PF,3531684,84,Dustin Feagins_Tamera Blakley@DSA.com',\n '29,Female,Leontine Phillips,OOP,3541954,65,Margene Moores_Jeannetta Golden@MVC.com',\n '29,Female,Billi Clore,OOP,3551532,81,Dustin Feagins_Annika Hoffman@PF.com',\n '28,Female,Neda Briski,Cloud,3562470,26,Gonzalo Ferebee_Kizzy Brenner@DB.com',\n '29,Female,Eda Neathery,MVC,3572648,77,Melani Engberg_Margene Moores@DB.com',\n '28,Male,Kizzy Brenner,Cloud,3581303,80,Margene Moores_Tamera Blakley@PF.com',\n '29,Male,Loris Crossett,OOP,3592529,80,Annika Hoffman_Toshiko Hillyard@PF.com',\n '28,Female,Toshiko Hillyard,DB,3602005,54,Loris Crossett_Annika Hoffman@DB.com',\n '28,Male,Mickey Cortright,Cloud,3612300,92,Cordie Harnois_Sheryll Towler@OOP.com',\n '28,Female,Sebrina Maresca,OOP,3621436,81,Maybell Duguay_Marylee Capasso@DSA.com',\n '28,Male,Hubert Oliveras,Cloud,3632954,34,Ernest Rossbach_Annika Hoffman@OOP.com',\n '29,Female,Taryn Brownlee,MVC,3641757,47,Alberta Freund_Dustin Feagins@OOP.com',\n '29,Male,Elenore Choy,DB,3652057,20,Jc Andrepont_Gonzalo Ferebee@DB.com',\n '29,Female,Clementina Menke,Cloud,3662734,58,Jc Andrepont_Lawanda Wohlwend@MVC.com',\n '29,Female,Donna Yerby,PF,3672856,34,Alberta Freund_Claude Panos@MVC.com',\n '28,Male,Jalisa Swenson,PF,3681989,88,Toshiko Hillyard_Ernest Rossbach@DB.com',\n '28,Female,Leontine Phillips,PF,3691377,28,Tamera Blakley_Alberta Freund@Cloud.com',\n '29,Male,Marylee Capasso,MVC,3702018,88,Somer Stoecker_Latia Vanhoose@Cloud.com',\n '29,Female,Bonita Higuera,Cloud,3711664,35,Sheryll Towler_Kizzy Brenner@OOP.com',\n '28,Male,Jenna Montague,DSA,3721359,96,Naoma Fritts_Kizzy Brenner@MVC.com',\n '28,Female,Gonzalo Ferebee,MVC,3732535,64,Somer Stoecker_Ernest Rossbach@DB.com',\n '28,Male,Niki Klimek,OOP,3742031,82,Leontine Phillips_Toshiko Hillyard@Cloud.com',\n '28,Male,Claude Panos,DB,3752819,78,Toshiko Hillyard_Mickey Cortright@DB.com',\n '29,Male,Priscila Tavernier,PF,3762231,87,Celeste Lollis_Loris Crossett@Cloud.com',\n '29,Female,Margene Moores,PF,3772294,29,Melani Engberg_Kizzy Brenner@PF.com',\n '28,Male,Abram Nagao,DSA,3781521,45,Taryn Brownlee_Michelle Ruggiero@OOP.com',\n '28,Male,Maybell Duguay,Cloud,3791855,33,Tijuana Kropf_Lawanda Wohlwend@PF.com',\n '28,Male,Bonita Higuera,DB,3802569,77,Kena Wild_Kena Wild@OOP.com',\n '28,Female,Gonzalo Ferebee,DSA,3811667,66,Neda Briski_Abram Nagao@OOP.com',\n '29,Male,Tijuana Kropf,DB,3821650,60,Maybell Duguay_Donna Yerby@MVC.com',\n '28,Male,Eda Neathery,Cloud,3831006,75,Donna Yerby_Loris Crossett@DSA.com',\n '29,Female,Latia Vanhoose,OOP,3841395,26,Kizzy Brenner_Eda Neathery@Cloud.com',\n '29,Female,Judie Chipps,DSA,3852601,92,Donna Yerby_Margene Moores@OOP.com',\n '28,Female,Loris Crossett,PF,3861248,94,Dustin Feagins_Cheri Kenney@Cloud.com',\n '29,Female,Donna Yerby,DSA,3872735,71,Eda Neathery_Latia Vanhoose@Cloud.com',\n '29,Female,Paris Hutton,Cloud,3882188,88,Claude Panos_Loris Crossett@DB.com',\n '29,Male,Jc Andrepont,MVC,3892788,94,Alberta Freund_Eda Neathery@DSA.com',\n '29,Female,Priscila Tavernier,OOP,3902993,99,Celeste Lollis_Billi Clore@DB.com',\n '29,Female,Tamera Blakley,DSA,3911247,20,Donna Yerby_Bonita Higuera@DB.com',\n '29,Male,Dustin Feagins,PF,3921585,32,Dustin Feagins_Jalisa Swenson@OOP.com',\n '28,Female,Santa Kerfien,OOP,3931948,24,Jeannetta Golden_Jenna Montague@DSA.com',\n '29,Male,Margene Moores,DSA,3942449,22,Tijuana Kropf_Naoma Fritts@DSA.com',\n '29,Female,Ernest Rossbach,DSA,3951575,74,Marylee Capasso_Kizzy Brenner@PF.com',\n '28,Male,Santa Kerfien,PF,3961803,94,Jeannetta Golden_Latia Vanhoose@PF.com',\n '29,Male,Jalisa Swenson,OOP,3972823,92,Tamera Blakley_Elenore Choy@Cloud.com',\n '29,Female,Clementina Menke,DSA,3982381,98,Tamera Blakley_Kizzy Brenner@OOP.com',\n '28,Male,Cordie Harnois,PF,3991186,69,Loris Crossett_Somer Stoecker@PF.com',\n '29,Male,Bonita Higuera,Cloud,4001493,36,Priscila Tavernier_Niki Klimek@PF.com',\n '29,Female,Annika Hoffman,Cloud,4012967,65,Santa Kerfien_Elenore Choy@OOP.com',\n '28,Male,Jeannetta Golden,PF,4021336,63,Latia Vanhoose_Loris Crossett@PF.com',\n '29,Female,Toshiko Hillyard,PF,4032043,28,Naoma Fritts_Cheri Kenney@DB.com',\n '29,Male,Sheryll Towler,MVC,4041358,34,Sheryll Towler_Claude Panos@DSA.com',\n '28,Female,Alberta Freund,OOP,4052753,42,Marylee Capasso_Jenna Montague@OOP.com',\n '29,Female,Taryn Brownlee,PF,4062876,67,Claude Panos_Niki Klimek@OOP.com',\n '28,Male,Margene Moores,DSA,4071164,42,Billi Clore_Lawanda Wohlwend@DB.com',\n '29,Male,Ernest Rossbach,DB,4081940,41,Tamera Blakley_Abram Nagao@MVC.com',\n '28,Female,Jenna Montague,PF,4092419,54,Donna Yerby_Taryn Brownlee@MVC.com',\n '28,Female,Elenore Choy,OOP,4102729,35,Jenna Montague_Bonita Higuera@DB.com',\n '29,Male,Maybell Duguay,Cloud,4112714,54,Cordie Harnois_Mitzi Seldon@DB.com',\n '29,Female,Leontine Phillips,PF,4122317,31,Hubert Oliveras_Lawanda Wohlwend@PF.com',\n '28,Female,Mickey Cortright,OOP,4132027,49,Santa Kerfien_Nicole Harwood@DSA.com',\n '28,Male,Paris Hutton,OOP,4141149,82,Maybell Duguay_Marylee Capasso@DB.com',\n '29,Female,Alberta Freund,DSA,4152288,78,Elenore Choy_Lawanda Wohlwend@MVC.com',\n '28,Female,Annika Hoffman,DSA,4162718,63,Gonzalo Ferebee_Billi Clore@PF.com',\n '28,Female,Jc Andrepont,Cloud,4171613,65,Somer Stoecker_Paris Hutton@Cloud.com',\n '29,Female,Ernest Rossbach,Cloud,4182371,39,Jalisa Swenson_Cheri Kenney@DSA.com',\n '29,Male,Anna Santos,DB,4192955,49,Clementina Menke_Judie Chipps@Cloud.com',\n '28,Male,Celeste Lollis,DSA,4201845,46,Gonzalo Ferebee_Clementina Menke@MVC.com',\n '28,Female,Tamera Blakley,MVC,4212111,79,Clementina Menke_Elenore Choy@PF.com',\n '29,Male,Michelle Ruggiero,OOP,4222829,96,Kena Wild_Jalisa Swenson@Cloud.com',\n '29,Male,Clementina Menke,DSA,4231581,66,Annika Hoffman_Tamera Blakley@DSA.com',\n '28,Female,Michelle Ruggiero,DSA,4242536,41,Alberta Freund_Billi Clore@DSA.com',\n '29,Female,Claude Panos,Cloud,4251762,50,Gonzalo Ferebee_Eda Neathery@OOP.com',\n '28,Female,Mickey Cortright,OOP,4261803,70,Leontine Phillips_Melani Engberg@Cloud.com',\n '28,Female,Bonita Higuera,Cloud,4271366,57,Elenore Choy_Gonzalo Ferebee@DB.com',\n '29,Male,Hubert Oliveras,Cloud,4282001,70,Billi Clore_Elenore Choy@Cloud.com',\n '29,Male,Elenore Choy,DB,4291907,91,Hubert Oliveras_Tamera Blakley@OOP.com',\n '28,Female,Clementina Menke,OOP,4301606,77,Naoma Fritts_Leontine Phillips@MVC.com',\n '28,Male,Santa Kerfien,DB,4311493,90,Tijuana Kropf_Anna Santos@PF.com',\n '29,Female,Mitzi Seldon,Cloud,4321178,77,Kena Wild_Annika Hoffman@PF.com',\n '29,Female,Kizzy Brenner,PF,4331609,69,Taryn Brownlee_Paris Hutton@DSA.com',\n '28,Male,Clementina Menke,PF,4341575,89,Cordie Harnois_Marylee Capasso@DB.com',\n '29,Male,Billi Clore,Cloud,4351588,76,Loris Crossett_Gonzalo Ferebee@DB.com',\n '29,Female,Niki Klimek,DSA,4362808,69,Lawanda Wohlwend_Billi Clore@Cloud.com',\n '29,Male,Celeste Lollis,PF,4372710,63,Latia Vanhoose_Loris Crossett@MVC.com',\n '28,Male,Toshiko Hillyard,Cloud,4381862,55,Anna Santos_Melani Engberg@MVC.com',\n '28,Female,Donna Yerby,Cloud,4392575,22,Leontine Phillips_Jenna Montague@DSA.com',\n '29,Male,Margene Moores,OOP,4401841,45,Naoma Fritts_Eda Neathery@Cloud.com',\n '29,Male,Ernest Rossbach,DB,4411585,50,Marylee Capasso_Lawanda Wohlwend@Cloud.com',\n '28,Female,Paris Hutton,PF,4421530,89,Sebrina Maresca_Latia Vanhoose@MVC.com',\n '28,Female,Kena Wild,DB,4431030,59,Paris Hutton_Cheri Kenney@Cloud.com',\n '29,Male,Maybell Duguay,DSA,4441473,23,Billi Clore_Clementina Menke@OOP.com',\n '29,Male,Cheri Kenney,Cloud,4451117,73,Jenna Montague_Kena Wild@Cloud.com',\n '28,Female,Kizzy Brenner,Cloud,4462249,93,Naoma Fritts_Taryn Brownlee@PF.com',\n '28,Female,Jeannetta Golden,Cloud,4472760,79,Clementina Menke_Tamera Blakley@OOP.com',\n '28,Female,Mitzi Seldon,DSA,4481503,81,Jc Andrepont_Claude Panos@DB.com',\n '29,Male,Paris Hutton,DB,4492478,84,Paris Hutton_Jenna Montague@PF.com',\n '29,Female,Alberta Freund,OOP,4501424,21,Toshiko Hillyard_Celeste Lollis@MVC.com',\n '29,Male,Melani Engberg,MVC,4511004,71,Nicole Harwood_Melani Engberg@Cloud.com',\n '28,Female,Margene Moores,MVC,4521977,61,Jeannetta Golden_Jc Andrepont@MVC.com',\n '29,Male,Abram Nagao,Cloud,4531204,50,Loris Crossett_Sebrina Maresca@DB.com',\n '29,Male,Judie Chipps,DB,4542925,39,Jenna Montague_Priscila Tavernier@PF.com',\n '29,Female,Ernest Rossbach,DSA,4551917,79,Somer Stoecker_Eda Neathery@PF.com',\n '29,Female,Nicole Harwood,DSA,4562217,40,Anna Santos_Cheri Kenney@OOP.com',\n '29,Female,Sheryll Towler,DB,4571866,67,Leontine Phillips_Kizzy Brenner@Cloud.com',\n '29,Female,Naoma Fritts,DSA,4582052,23,Kena Wild_Jenna Montague@DSA.com',\n '29,Female,Cheri Kenney,PF,4591235,66,Annika Hoffman_Annika Hoffman@OOP.com',\n '28,Female,Celeste Lollis,OOP,4602002,61,Nicole Harwood_Abram Nagao@MVC.com',\n '28,Female,Judie Chipps,Cloud,4612245,26,Somer Stoecker_Naoma Fritts@Cloud.com',\n '28,Male,Kizzy Brenner,Cloud,4622328,21,Leontine Phillips_Marylee Capasso@PF.com',\n '28,Female,Judie Chipps,DSA,4631068,98,Toshiko Hillyard_Abram Nagao@MVC.com',\n '28,Male,Marylee Capasso,PF,4642202,94,Marylee Capasso_Elenore Choy@Cloud.com',\n '28,Male,Eda Neathery,DB,4651622,43,Priscila Tavernier_Hubert Oliveras@DSA.com',\n '29,Male,Latia Vanhoose,Cloud,4661276,40,Jc Andrepont_Annika Hoffman@DB.com',\n '29,Male,Kizzy Brenner,Cloud,4671045,81,Lawanda Wohlwend_Judie Chipps@OOP.com',\n '28,Male,Elenore Choy,MVC,4681842,88,Paris Hutton_Toshiko Hillyard@DB.com',\n '29,Male,Dustin Feagins,MVC,4692399,32,Gonzalo Ferebee_Somer Stoecker@OOP.com',\n '28,Female,Claude Panos,DB,4701534,47,Somer Stoecker_Naoma Fritts@DSA.com',\n '28,Female,Elenore Choy,Cloud,4711825,54,Alberta Freund_Tijuana Kropf@DSA.com',\n '28,Female,Mitzi Seldon,OOP,4722700,47,Naoma Fritts_Ernest Rossbach@DB.com',\n '28,Female,Tijuana Kropf,DSA,4732921,52,Jenna Montague_Gonzalo Ferebee@DB.com',\n '29,Male,Judie Chipps,OOP,4742632,94,Judie Chipps_Kena Wild@OOP.com',\n '29,Male,Jalisa Swenson,OOP,4751515,20,Annika Hoffman_Hubert Oliveras@Cloud.com',\n '29,Male,Marylee Capasso,MVC,4762368,80,Sebrina Maresca_Annika Hoffman@Cloud.com',\n '28,Female,Niki Klimek,DSA,4772918,51,Loris Crossett_Leontine Phillips@MVC.com',\n '28,Female,Priscila Tavernier,OOP,4781044,36,Dustin Feagins_Naoma Fritts@OOP.com',\n '28,Female,Latia Vanhoose,OOP,4792828,72,Tamera Blakley_Mitzi Seldon@DSA.com',\n '28,Male,Alberta Freund,DB,4802967,80,Naoma Fritts_Elenore Choy@DSA.com',\n '28,Female,Santa Kerfien,DB,4811069,85,Dustin Feagins_Maybell Duguay@MVC.com',\n '29,Male,Jalisa Swenson,OOP,4822653,70,Anna Santos_Abram Nagao@MVC.com',\n '29,Male,Elenore Choy,DSA,4831059,24,Abram Nagao_Kena Wild@Cloud.com',\n '28,Male,Cheri Kenney,PF,4841631,84,Abram Nagao_Naoma Fritts@MVC.com',\n '29,Female,Lawanda Wohlwend,DSA,4851930,64,Jeannetta Golden_Sheryll Towler@OOP.com',\n '28,Male,Cheri Kenney,OOP,4862694,68,Leontine Phillips_Taryn Brownlee@DB.com',\n '28,Female,Jeannetta Golden,OOP,4872604,58,Somer Stoecker_Celeste Lollis@MVC.com',\n '28,Female,Billi Clore,DSA,4881063,86,Eda Neathery_Cordie Harnois@MVC.com',\n '28,Male,Clementina Menke,DSA,4891815,44,Kena Wild_Judie Chipps@PF.com',\n '29,Male,Anna Santos,MVC,4901235,77,Gonzalo Ferebee_Sebrina Maresca@DB.com',\n '29,Male,Elenore Choy,DSA,4911667,52,Priscila Tavernier_Sheryll Towler@PF.com',\n '29,Female,Mitzi Seldon,DB,4922367,64,Annika Hoffman_Annika Hoffman@MVC.com',\n '28,Male,Santa Kerfien,DB,4932764,76,Nicole Harwood_Loris Crossett@PF.com',\n '28,Male,Mitzi Seldon,MVC,4942910,91,Tamera Blakley_Jenna Montague@DSA.com',\n '29,Female,Dustin Feagins,Cloud,4952697,46,Annika Hoffman_Elenore Choy@MVC.com',\n '29,Female,Paris Hutton,OOP,4962584,37,Anna Santos_Alberta Freund@DB.com',\n '28,Female,Santa Kerfien,DB,4971408,40,Mitzi Seldon_Naoma Fritts@PF.com',\n '28,Female,Toshiko Hillyard,Cloud,4982864,46,Michelle Ruggiero_Cordie Harnois@DB.com',\n '28,Female,Donna Yerby,DB,4991657,53,Ernest Rossbach_Somer Stoecker@DSA.com',\n '28,Female,Kena Wild,DB,5001412,53,Annika Hoffman_Jalisa Swenson@PF.com',\n '29,Male,Jc Andrepont,DB,5012482,60,Jalisa Swenson_Somer Stoecker@Cloud.com',\n '29,Male,Abram Nagao,DSA,5022738,42,Margene Moores_Latia Vanhoose@OOP.com',\n '29,Female,Alberta Freund,OOP,5032356,66,Paris Hutton_Gonzalo Ferebee@MVC.com',\n '29,Male,Sebrina Maresca,Cloud,5042394,21,Donna Yerby_Michelle Ruggiero@PF.com',\n '29,Male,Jeannetta Golden,PF,5051485,75,Neda Briski_Annika Hoffman@Cloud.com',\n '29,Male,Jalisa Swenson,OOP,5061737,84,Somer Stoecker_Latia Vanhoose@MVC.com',\n '28,Male,Gonzalo Ferebee,MVC,5071004,72,Mitzi Seldon_Taryn Brownlee@DSA.com',\n '28,Male,Eda Neathery,PF,5082430,22,Leontine Phillips_Lawanda Wohlwend@MVC.com',\n '28,Male,Tijuana Kropf,DSA,5092243,85,Jenna Montague_Loris Crossett@OOP.com',\n '29,Female,Leontine Phillips,OOP,5102782,86,Lawanda Wohlwend_Mitzi Seldon@Cloud.com',\n '29,Male,Alberta Freund,PF,5112625,68,Abram Nagao_Celeste Lollis@DSA.com',\n '29,Female,Niki Klimek,MVC,5122968,42,Jenna Montague_Hubert Oliveras@MVC.com',\n '28,Female,Neda Briski,Cloud,5131604,58,Mickey Cortright_Niki Klimek@DB.com',\n '29,Female,Anna Santos,DB,5142808,81,Donna Yerby_Naoma Fritts@DB.com',\n '29,Male,Gonzalo Ferebee,Cloud,5151742,46,Jeannetta Golden_Ernest Rossbach@DSA.com',\n '29,Male,Mickey Cortright,MVC,5162191,28,Eda Neathery_Tijuana Kropf@DB.com',\n '28,Male,Niki Klimek,DSA,5172507,99,Marylee Capasso_Elenore Choy@MVC.com',\n '29,Male,Elenore Choy,PF,5181004,58,Jc Andrepont_Loris Crossett@OOP.com',\n '29,Male,Loris Crossett,MVC,5192208,78,Tamera Blakley_Abram Nagao@DB.com',\n '28,Male,Jc Andrepont,Cloud,5202136,97,Jc Andrepont_Kena Wild@PF.com',\n '29,Female,Marylee Capasso,PF,5212694,64,Loris Crossett_Niki Klimek@Cloud.com',\n '28,Female,Latia Vanhoose,PF,5222171,73,Toshiko Hillyard_Mickey Cortright@Cloud.com',\n '28,Male,Eda Neathery,MVC,5231777,56,Judie Chipps_Jalisa Swenson@OOP.com',\n '28,Male,Elenore Choy,MVC,5241419,81,Sebrina Maresca_Taryn Brownlee@PF.com',\n '29,Female,Marylee Capasso,OOP,5252441,47,Maybell Duguay_Mickey Cortright@MVC.com',\n '28,Female,Taryn Brownlee,OOP,5262828,25,Elenore Choy_Gonzalo Ferebee@DB.com',\n '28,Male,Clementina Menke,DSA,5272838,27,Clementina Menke_Eda Neathery@MVC.com',\n '29,Male,Santa Kerfien,DB,5282657,81,Judie Chipps_Mickey Cortright@MVC.com',\n '29,Female,Lawanda Wohlwend,OOP,5292220,46,Loris Crossett_Alberta Freund@MVC.com',\n '28,Female,Abram Nagao,Cloud,5301859,50,Elenore Choy_Claude Panos@Cloud.com',\n '28,Male,Taryn Brownlee,DB,5311449,25,Santa Kerfien_Lawanda Wohlwend@OOP.com',\n '28,Male,Donna Yerby,DB,5321010,65,Jc Andrepont_Tijuana Kropf@DB.com',\n '29,Female,Celeste Lollis,Cloud,5331415,75,Leontine Phillips_Kena Wild@DB.com',\n '28,Female,Hubert Oliveras,DSA,5342918,82,Judie Chipps_Annika Hoffman@OOP.com',\n '28,Male,Tamera Blakley,DSA,5352713,80,Jeannetta Golden_Neda Briski@Cloud.com',\n '29,Male,Sheryll Towler,PF,5362217,36,Ernest Rossbach_Eda Neathery@Cloud.com',\n '28,Female,Ernest Rossbach,PF,5372045,87,Maybell Duguay_Melani Engberg@PF.com',\n '28,Male,Lawanda Wohlwend,OOP,5382684,34,Jc Andrepont_Kena Wild@Cloud.com',\n '29,Male,Santa Kerfien,OOP,5391590,89,Somer Stoecker_Loris Crossett@DB.com',\n '29,Female,Tamera Blakley,MVC,5401559,68,Alberta Freund_Jeannetta Golden@MVC.com',\n '28,Female,Maybell Duguay,Cloud,5411090,53,Jeannetta Golden_Mickey Cortright@DB.com',\n '28,Male,Jc Andrepont,DSA,5421958,33,Lawanda Wohlwend_Leontine Phillips@DB.com',\n '28,Female,Somer Stoecker,DSA,5432767,95,Mitzi Seldon_Paris Hutton@MVC.com',\n '29,Female,Jeannetta Golden,OOP,5442294,52,Elenore Choy_Sebrina Maresca@MVC.com',\n '28,Female,Judie Chipps,OOP,5451977,99,Tamera Blakley_Mickey Cortright@PF.com',\n '28,Female,Maybell Duguay,Cloud,5461402,29,Cheri Kenney_Annika Hoffman@Cloud.com',\n '28,Female,Jeannetta Golden,Cloud,5472189,92,Naoma Fritts_Annika Hoffman@DB.com',\n '29,Female,Lawanda Wohlwend,Cloud,5482981,37,Billi Clore_Eda Neathery@DB.com',\n '29,Female,Eda Neathery,Cloud,5492989,43,Cordie Harnois_Latia Vanhoose@DB.com',\n '28,Male,Anna Santos,DSA,5502368,84,Sebrina Maresca_Jc Andrepont@Cloud.com',\n '28,Female,Neda Briski,MVC,5512387,54,Jenna Montague_Melani Engberg@Cloud.com',\n '29,Female,Claude Panos,Cloud,5521752,94,Sebrina Maresca_Sheryll Towler@MVC.com',\n '29,Female,Judie Chipps,Cloud,5532421,80,Sebrina Maresca_Donna Yerby@Cloud.com',\n '29,Female,Hubert Oliveras,DSA,5542363,23,Priscila Tavernier_Niki Klimek@DSA.com',\n '28,Male,Gonzalo Ferebee,PF,5552593,55,Jeannetta Golden_Dustin Feagins@Cloud.com',\n '28,Female,Mickey Cortright,OOP,5561955,38,Jenna Montague_Hubert Oliveras@DSA.com',\n '28,Male,Abram Nagao,OOP,5571082,85,Santa Kerfien_Jalisa Swenson@PF.com',\n '29,Female,Dustin Feagins,DB,5581136,32,Alberta Freund_Celeste Lollis@Cloud.com',\n '29,Male,Sheryll Towler,DSA,5591018,56,Tijuana Kropf_Dustin Feagins@DSA.com',\n '28,Female,Mitzi Seldon,DB,5602986,65,Toshiko Hillyard_Elenore Choy@MVC.com',\n '28,Male,Michelle Ruggiero,PF,5612879,64,Tijuana Kropf_Maybell Duguay@PF.com',\n '29,Male,Margene Moores,OOP,5621072,97,Sheryll Towler_Margene Moores@MVC.com',\n '29,Female,Gonzalo Ferebee,DSA,5631172,20,Jeannetta Golden_Hubert Oliveras@MVC.com',\n '28,Male,Cheri Kenney,Cloud,5641528,94,Sebrina Maresca_Leontine Phillips@OOP.com',\n '29,Female,Niki Klimek,DSA,5651181,38,Dustin Feagins_Naoma Fritts@OOP.com',\n '28,Male,Tamera Blakley,DB,5661433,76,Abram Nagao_Leontine Phillips@MVC.com',\n '28,Male,Annika Hoffman,OOP,5672977,38,Paris Hutton_Latia Vanhoose@DB.com',\n '29,Male,Judie Chipps,OOP,5682469,24,Tamera Blakley_Maybell Duguay@DSA.com',\n '29,Male,Cordie Harnois,PF,5691278,24,Paris Hutton_Hubert Oliveras@MVC.com',\n '29,Male,Cheri Kenney,OOP,5702560,32,Lawanda Wohlwend_Naoma Fritts@Cloud.com',\n '28,Female,Jalisa Swenson,MVC,5712033,99,Dustin Feagins_Hubert Oliveras@DSA.com',\n '29,Male,Tamera Blakley,OOP,5722341,68,Jalisa Swenson_Santa Kerfien@OOP.com',\n '29,Male,Bonita Higuera,OOP,5732408,82,Mitzi Seldon_Claude Panos@PF.com',\n '28,Female,Sebrina Maresca,PF,5742239,21,Bonita Higuera_Sebrina Maresca@DB.com',\n '29,Female,Leontine Phillips,OOP,5752610,30,Jeannetta Golden_Mitzi Seldon@MVC.com',\n '28,Female,Sebrina Maresca,DSA,5761415,89,Margene Moores_Kena Wild@DSA.com',\n '29,Male,Gonzalo Ferebee,MVC,5772006,99,Niki Klimek_Margene Moores@MVC.com',\n '28,Female,Melani Engberg,Cloud,5782064,64,Ernest Rossbach_Ernest Rossbach@Cloud.com',\n '28,Male,Naoma Fritts,OOP,5791890,45,Billi Clore_Jenna Montague@Cloud.com',\n '28,Female,Somer Stoecker,MVC,5801302,34,Cheri Kenney_Bonita Higuera@OOP.com',\n '28,Male,Mickey Cortright,PF,5812370,39,Jenna Montague_Sheryll Towler@OOP.com',\n '29,Male,Eda Neathery,PF,5821087,55,Nicole Harwood_Paris Hutton@DSA.com',\n '29,Male,Priscila Tavernier,OOP,5831872,63,Somer Stoecker_Kena Wild@OOP.com',\n '28,Female,Alberta Freund,MVC,5842912,51,Cordie Harnois_Margene Moores@OOP.com',\n '29,Female,Paris Hutton,PF,5852476,66,Loris Crossett_Mickey Cortright@MVC.com',\n '28,Female,Nicole Harwood,DB,5862606,77,Clementina Menke_Donna Yerby@DB.com',\n '28,Female,Judie Chipps,DB,5872939,24,Mitzi Seldon_Paris Hutton@OOP.com',\n '28,Female,Somer Stoecker,PF,5882098,98,Judie Chipps_Clementina Menke@PF.com',\n '29,Female,Jenna Montague,Cloud,5892993,86,Jeannetta Golden_Marylee Capasso@MVC.com',\n '28,Male,Sebrina Maresca,PF,5902730,34,Michelle Ruggiero_Claude Panos@DSA.com',\n '29,Female,Melani Engberg,DSA,5911007,54,Kizzy Brenner_Tamera Blakley@OOP.com',\n '29,Female,Gonzalo Ferebee,MVC,5922869,80,Toshiko Hillyard_Naoma Fritts@OOP.com',\n '29,Male,Donna Yerby,DB,5932345,78,Leontine Phillips_Sheryll Towler@PF.com',\n '28,Female,Somer Stoecker,DSA,5942293,88,Nicole Harwood_Tamera Blakley@DB.com',\n '28,Female,Anna Santos,OOP,5952812,56,Jeannetta Golden_Eda Neathery@DB.com',\n '28,Female,Cheri Kenney,OOP,5961043,37,Bonita Higuera_Marylee Capasso@PF.com',\n '28,Female,Tamera Blakley,DSA,5972030,28,Leontine Phillips_Annika Hoffman@DSA.com',\n '29,Female,Dustin Feagins,Cloud,5982620,72,Kena Wild_Cheri Kenney@OOP.com',\n '28,Male,Toshiko Hillyard,DSA,5992644,77,Jenna Montague_Tijuana Kropf@Cloud.com',\n '29,Male,Michelle Ruggiero,PF,6001585,20,Paris Hutton_Margene Moores@PF.com',\n '29,Male,Kizzy Brenner,DSA,6012402,71,Elenore Choy_Alberta Freund@PF.com',\n '29,Female,Tijuana Kropf,Cloud,6021281,42,Alberta Freund_Sheryll Towler@PF.com',\n '28,Male,Gonzalo Ferebee,MVC,6032264,71,Jeannetta Golden_Claude Panos@Cloud.com',\n '29,Male,Cheri Kenney,DB,6041254,59,Gonzalo Ferebee_Margene Moores@PF.com',\n '29,Female,Paris Hutton,DB,6052159,34,Priscila Tavernier_Maybell Duguay@PF.com',\n '28,Female,Bonita Higuera,Cloud,6061881,23,Dustin Feagins_Lawanda Wohlwend@PF.com',\n '29,Female,Alberta Freund,DSA,6071316,99,Dustin Feagins_Sebrina Maresca@DB.com',\n '28,Male,Priscila Tavernier,DSA,6082520,89,Clementina Menke_Hubert Oliveras@DSA.com',\n '29,Male,Kena Wild,DSA,6092008,76,Sheryll Towler_Anna Santos@PF.com',\n '29,Female,Billi Clore,Cloud,6101096,27,Maybell Duguay_Claude Panos@PF.com',\n '29,Female,Alberta Freund,PF,6111594,89,Celeste Lollis_Anna Santos@Cloud.com',\n '29,Female,Jalisa Swenson,Cloud,6121309,59,Kizzy Brenner_Dustin Feagins@PF.com',\n '28,Male,Paris Hutton,DB,6131084,72,Tijuana Kropf_Abram Nagao@MVC.com',\n '29,Male,Jalisa Swenson,DB,6141407,97,Ernest Rossbach_Alberta Freund@DB.com',\n '28,Female,Jenna Montague,DSA,6152830,81,Gonzalo Ferebee_Lawanda Wohlwend@DB.com',\n '29,Female,Jalisa Swenson,Cloud,6161884,40,Bonita Higuera_Latia Vanhoose@OOP.com',\n '29,Male,Jc Andrepont,Cloud,6171781,88,Gonzalo Ferebee_Claude Panos@DB.com',\n '29,Female,Abram Nagao,PF,6182152,50,Santa Kerfien_Claude Panos@DB.com',\n '28,Female,Cheri Kenney,Cloud,6192920,40,Maybell Duguay_Neda Briski@OOP.com',\n '28,Female,Kena Wild,DSA,6201485,85,Niki Klimek_Clementina Menke@MVC.com',\n '29,Female,Loris Crossett,DB,6212990,39,Melani Engberg_Paris Hutton@Cloud.com',\n '29,Female,Kizzy Brenner,DB,6222425,69,Margene Moores_Sebrina Maresca@MVC.com',\n '29,Male,Neda Briski,DSA,6231956,75,Nicole Harwood_Santa Kerfien@Cloud.com',\n '28,Female,Billi Clore,DSA,6242097,97,Jeannetta Golden_Maybell Duguay@DSA.com',\n '29,Male,Melani Engberg,PF,6252274,64,Latia Vanhoose_Paris Hutton@OOP.com',\n '28,Female,Judie Chipps,Cloud,6261948,80,Eda Neathery_Priscila Tavernier@MVC.com',\n '28,Female,Sheryll Towler,DB,6271754,43,Elenore Choy_Melani Engberg@MVC.com',\n '28,Male,Tijuana Kropf,Cloud,6281730,83,Mickey Cortright_Celeste Lollis@Cloud.com',\n '28,Male,Alberta Freund,PF,6291431,68,Clementina Menke_Billi Clore@PF.com',\n '28,Female,Maybell Duguay,DB,6301666,88,Latia Vanhoose_Jc Andrepont@Cloud.com',\n '29,Male,Eda Neathery,DB,6311969,83,Clementina Menke_Neda Briski@DB.com',\n '29,Male,Claude Panos,OOP,6321119,35,Bonita Higuera_Eda Neathery@DSA.com',\n '29,Female,Dustin Feagins,PF,6331469,51,Melani Engberg_Margene Moores@MVC.com',\n '28,Female,Dustin Feagins,OOP,6341113,25,Latia Vanhoose_Jenna Montague@OOP.com',\n '28,Male,Alberta Freund,PF,6352910,52,Judie Chipps_Maybell Duguay@Cloud.com',\n '28,Female,Michelle Ruggiero,Cloud,6362263,66,Sheryll Towler_Donna Yerby@Cloud.com',\n '29,Male,Toshiko Hillyard,DSA,6371328,91,Somer Stoecker_Maybell Duguay@OOP.com',\n '28,Male,Annika Hoffman,MVC,6381719,48,Ernest Rossbach_Jc Andrepont@DSA.com',\n '28,Male,Lawanda Wohlwend,Cloud,6391977,39,Marylee Capasso_Melani Engberg@MVC.com',\n '28,Female,Eda Neathery,PF,6402146,78,Sheryll Towler_Somer Stoecker@PF.com',\n '29,Female,Eda Neathery,DSA,6412002,95,Sebrina Maresca_Hubert Oliveras@Cloud.com',\n '28,Male,Naoma Fritts,DB,6422790,95,Sheryll Towler_Ernest Rossbach@DSA.com',\n '29,Male,Elenore Choy,PF,6431645,53,Loris Crossett_Kena Wild@MVC.com',\n '28,Male,Leontine Phillips,PF,6442094,78,Michelle Ruggiero_Paris Hutton@OOP.com',\n '29,Female,Maybell Duguay,MVC,6451082,33,Lawanda Wohlwend_Mitzi Seldon@DB.com',\n '29,Female,Niki Klimek,PF,6462485,84,Tamera Blakley_Niki Klimek@Cloud.com',\n '28,Male,Taryn Brownlee,PF,6471481,76,Annika Hoffman_Donna Yerby@OOP.com',\n '29,Female,Claude Panos,Cloud,6482574,67,Eda Neathery_Billi Clore@Cloud.com',\n '29,Male,Bonita Higuera,MVC,6491656,45,Neda Briski_Naoma Fritts@DB.com',\n '28,Male,Jalisa Swenson,MVC,6501571,71,Naoma Fritts_Niki Klimek@MVC.com',\n '29,Male,Judie Chipps,Cloud,6511826,74,Clementina Menke_Judie Chipps@DSA.com',\n '28,Female,Nicole Harwood,DB,6522046,79,Naoma Fritts_Margene Moores@DSA.com',\n '29,Male,Somer Stoecker,DSA,6531094,81,Dustin Feagins_Kena Wild@MVC.com',\n '28,Female,Priscila Tavernier,Cloud,6542640,27,Kizzy Brenner_Loris Crossett@Cloud.com',\n '29,Male,Neda Briski,MVC,6552886,83,Abram Nagao_Marylee Capasso@OOP.com',\n '28,Male,Cheri Kenney,Cloud,6562808,92,Donna Yerby_Dustin Feagins@PF.com',\n '29,Male,Tijuana Kropf,PF,6572639,71,Sheryll Towler_Latia Vanhoose@PF.com',\n '28,Female,Kizzy Brenner,DB,6582931,57,Alberta Freund_Jc Andrepont@PF.com',\n '29,Female,Melani Engberg,Cloud,6592152,30,Gonzalo Ferebee_Hubert Oliveras@MVC.com',\n '28,Male,Tamera Blakley,Cloud,6601939,34,Jenna Montague_Clementina Menke@Cloud.com',\n '29,Male,Gonzalo Ferebee,DSA,6611648,66,Tijuana Kropf_Elenore Choy@OOP.com',\n '29,Female,Jeannetta Golden,DSA,6621600,32,Dustin Feagins_Sheryll Towler@MVC.com',\n '28,Male,Neda Briski,DB,6632463,48,Sheryll Towler_Dustin Feagins@Cloud.com',\n '28,Male,Maybell Duguay,MVC,6642438,56,Margene Moores_Bonita Higuera@DB.com',\n '28,Male,Naoma Fritts,OOP,6652677,77,Lawanda Wohlwend_Billi Clore@MVC.com',\n '29,Female,Margene Moores,OOP,6662414,60,Hubert Oliveras_Margene Moores@DSA.com',\n '29,Female,Sheryll Towler,OOP,6672653,23,Jenna Montague_Santa Kerfien@PF.com',\n '29,Male,Paris Hutton,PF,6682291,78,Margene Moores_Hubert Oliveras@PF.com',\n '28,Female,Taryn Brownlee,Cloud,6692958,31,Cordie Harnois_Cheri Kenney@OOP.com',\n '28,Female,Latia Vanhoose,Cloud,6701628,33,Abram Nagao_Cheri Kenney@DB.com',\n '28,Female,Kizzy Brenner,Cloud,6711773,84,Leontine Phillips_Donna Yerby@DSA.com',\n '28,Male,Paris Hutton,PF,6722224,90,Niki Klimek_Gonzalo Ferebee@Cloud.com',\n '29,Female,Anna Santos,DB,6732334,45,Gonzalo Ferebee_Alberta Freund@DSA.com',\n '29,Female,Judie Chipps,PF,6742197,62,Eda Neathery_Elenore Choy@MVC.com',\n '28,Male,Donna Yerby,MVC,6752737,26,Mickey Cortright_Gonzalo Ferebee@DSA.com',\n '28,Male,Anna Santos,OOP,6762411,81,Bonita Higuera_Annika Hoffman@Cloud.com',\n '29,Female,Latia Vanhoose,MVC,6771882,49,Alberta Freund_Latia Vanhoose@DB.com',\n '29,Female,Ernest Rossbach,PF,6782099,59,Claude Panos_Annika Hoffman@DSA.com',\n '28,Male,Paris Hutton,MVC,6791398,63,Bonita Higuera_Billi Clore@OOP.com',\n '29,Male,Billi Clore,Cloud,6802170,52,Dustin Feagins_Sebrina Maresca@DSA.com',\n '29,Male,Tamera Blakley,DB,6811165,62,Annika Hoffman_Bonita Higuera@PF.com',\n '29,Male,Tamera Blakley,Cloud,6822429,67,Donna Yerby_Cheri Kenney@DB.com',\n '28,Female,Kena Wild,DSA,6831241,94,Loris Crossett_Leontine Phillips@OOP.com',\n '29,Male,Neda Briski,OOP,6842985,80,Toshiko Hillyard_Cordie Harnois@MVC.com',\n '29,Female,Donna Yerby,PF,6851744,59,Maybell Duguay_Hubert Oliveras@Cloud.com',\n '29,Female,Mitzi Seldon,DB,6862019,78,Kena Wild_Celeste Lollis@DSA.com',\n '29,Male,Margene Moores,DSA,6872276,89,Leontine Phillips_Annika Hoffman@PF.com',\n '28,Female,Billi Clore,Cloud,6882495,46,Claude Panos_Latia Vanhoose@DSA.com',\n '28,Female,Kizzy Brenner,DB,6892057,70,Priscila Tavernier_Judie Chipps@OOP.com',\n '28,Male,Leontine Phillips,MVC,6902478,32,Melani Engberg_Ernest Rossbach@MVC.com',\n '29,Female,Kena Wild,DB,6911600,73,Maybell Duguay_Latia Vanhoose@PF.com',\n '28,Female,Paris Hutton,Cloud,6922359,46,Neda Briski_Dustin Feagins@DB.com',\n '29,Female,Maybell Duguay,OOP,6931378,55,Toshiko Hillyard_Latia Vanhoose@DSA.com',\n '29,Female,Sebrina Maresca,MVC,6941692,85,Billi Clore_Jc Andrepont@Cloud.com',\n '28,Female,Tamera Blakley,DSA,6951836,81,Somer Stoecker_Donna Yerby@OOP.com',\n '29,Male,Loris Crossett,MVC,6962740,95,Jeannetta Golden_Ernest Rossbach@OOP.com',\n '28,Female,Niki Klimek,DSA,6971140,27,Leontine Phillips_Gonzalo Ferebee@MVC.com',\n '28,Male,Elenore Choy,MVC,6982740,41,Latia Vanhoose_Leontine Phillips@PF.com',\n '29,Male,Donna Yerby,DSA,6991370,91,Dustin Feagins_Abram Nagao@PF.com',\n '29,Male,Santa Kerfien,OOP,7001706,77,Bonita Higuera_Nicole Harwood@DSA.com',\n '28,Female,Judie Chipps,PF,7012144,88,Nicole Harwood_Tamera Blakley@PF.com',\n '28,Female,Neda Briski,PF,7021987,62,Elenore Choy_Jenna Montague@DSA.com',\n '29,Male,Tamera Blakley,DSA,7031305,57,Clementina Menke_Toshiko Hillyard@PF.com',\n '29,Male,Cordie Harnois,DSA,7041544,97,Kizzy Brenner_Jalisa Swenson@OOP.com',\n '28,Male,Leontine Phillips,Cloud,7051293,77,Bonita Higuera_Cheri Kenney@Cloud.com',\n '29,Male,Margene Moores,MVC,7062262,59,Nicole Harwood_Michelle Ruggiero@Cloud.com',\n '28,Female,Mickey Cortright,MVC,7071556,36,Priscila Tavernier_Nicole Harwood@OOP.com',\n '29,Female,Annika Hoffman,MVC,7081972,95,Judie Chipps_Mitzi Seldon@OOP.com',\n '28,Female,Ernest Rossbach,MVC,7091785,57,Loris Crossett_Billi Clore@PF.com',\n '29,Male,Hubert Oliveras,OOP,7102834,44,Hubert Oliveras_Celeste Lollis@Cloud.com',\n '29,Male,Eda Neathery,MVC,7111575,47,Anna Santos_Tamera Blakley@DSA.com',\n '28,Female,Nicole Harwood,DSA,7121730,53,Michelle Ruggiero_Marylee Capasso@MVC.com',\n '28,Female,Anna Santos,PF,7132856,30,Elenore Choy_Paris Hutton@DSA.com',\n '29,Male,Cordie Harnois,Cloud,7141186,74,Paris Hutton_Marylee Capasso@PF.com',\n '28,Female,Bonita Higuera,OOP,7151179,53,Taryn Brownlee_Sheryll Towler@Cloud.com',\n '28,Male,Gonzalo Ferebee,OOP,7162059,23,Melani Engberg_Melani Engberg@DSA.com',\n '28,Male,Clementina Menke,DB,7172058,62,Mitzi Seldon_Clementina Menke@MVC.com',\n '29,Female,Jeannetta Golden,Cloud,7182144,70,Naoma Fritts_Niki Klimek@PF.com',\n '28,Female,Melani Engberg,OOP,7192072,92,Cheri Kenney_Ernest Rossbach@DSA.com',\n '29,Male,Sebrina Maresca,DSA,7202414,51,Ernest Rossbach_Jalisa Swenson@MVC.com',\n '28,Male,Dustin Feagins,DSA,7212606,51,Cheri Kenney_Eda Neathery@DB.com',\n '29,Female,Lawanda Wohlwend,Cloud,7222880,98,Sheryll Towler_Anna Santos@DB.com',\n '28,Female,Clementina Menke,DSA,7231357,42,Judie Chipps_Cordie Harnois@MVC.com',\n '28,Male,Leontine Phillips,DB,7242704,72,Maybell Duguay_Toshiko Hillyard@PF.com',\n '28,Male,Taryn Brownlee,PF,7252400,77,Marylee Capasso_Jeannetta Golden@DB.com',\n '28,Female,Lawanda Wohlwend,DB,7261840,81,Donna Yerby_Kizzy Brenner@Cloud.com',\n '29,Female,Bonita Higuera,Cloud,7272043,72,Alberta Freund_Latia Vanhoose@PF.com',\n '29,Male,Neda Briski,DSA,7282511,42,Jalisa Swenson_Naoma Fritts@MVC.com',\n '28,Female,Clementina Menke,Cloud,7291419,46,Bonita Higuera_Naoma Fritts@OOP.com',\n '28,Male,Sheryll Towler,Cloud,7301966,63,Jalisa Swenson_Leontine Phillips@DSA.com',\n '28,Male,Taryn Brownlee,PF,7311546,27,Clementina Menke_Melani Engberg@MVC.com',\n '28,Male,Cheri Kenney,OOP,7321040,83,Sheryll Towler_Judie Chipps@PF.com',\n '28,Male,Marylee Capasso,DSA,7331984,70,Bonita Higuera_Melani Engberg@PF.com',\n '29,Male,Tamera Blakley,OOP,7341268,21,Anna Santos_Naoma Fritts@OOP.com',\n '29,Female,Jc Andrepont,OOP,7351315,84,Judie Chipps_Margene Moores@OOP.com',\n '29,Male,Claude Panos,PF,7362772,92,Clementina Menke_Naoma Fritts@OOP.com',\n '29,Male,Annika Hoffman,MVC,7372375,35,Sheryll Towler_Taryn Brownlee@MVC.com',\n '28,Female,Latia Vanhoose,MVC,7381991,94,Eda Neathery_Michelle Ruggiero@MVC.com',\n '29,Male,Margene Moores,MVC,7391087,59,Jc Andrepont_Latia Vanhoose@DSA.com',\n '29,Female,Claude Panos,PF,7402827,82,Kizzy Brenner_Kena Wild@MVC.com',\n '29,Female,Santa Kerfien,PF,7412168,24,Eda Neathery_Abram Nagao@Cloud.com',\n '29,Male,Celeste Lollis,PF,7421417,83,Jc Andrepont_Maybell Duguay@PF.com',\n '28,Female,Lawanda Wohlwend,DSA,7431179,91,Anna Santos_Neda Briski@DB.com',\n '28,Female,Loris Crossett,Cloud,7441605,72,Sheryll Towler_Kena Wild@DB.com',\n '28,Female,Taryn Brownlee,MVC,7452944,33,Elenore Choy_Jenna Montague@MVC.com',\n '28,Male,Tijuana Kropf,MVC,7462328,32,Toshiko Hillyard_Tamera Blakley@DSA.com',\n '29,Female,Melani Engberg,DB,7471313,77,Cheri Kenney_Celeste Lollis@PF.com',\n '29,Female,Dustin Feagins,MVC,7481997,37,Mickey Cortright_Gonzalo Ferebee@MVC.com',\n '28,Female,Eda Neathery,MVC,7491443,46,Neda Briski_Margene Moores@OOP.com',\n '28,Male,Priscila Tavernier,MVC,7502427,97,Alberta Freund_Niki Klimek@OOP.com',\n '28,Male,Hubert Oliveras,MVC,7512833,47,Loris Crossett_Jenna Montague@OOP.com',\n '29,Female,Leontine Phillips,PF,7522221,52,Hubert Oliveras_Dustin Feagins@Cloud.com',\n '28,Female,Melani Engberg,Cloud,7531661,25,Gonzalo Ferebee_Dustin Feagins@MVC.com',\n '29,Female,Jalisa Swenson,DB,7542285,59,Maybell Duguay_Billi Clore@PF.com',\n '28,Female,Cheri Kenney,DB,7551469,33,Paris Hutton_Annika Hoffman@OOP.com',\n '28,Female,Santa Kerfien,MVC,7561491,68,Niki Klimek_Nicole Harwood@MVC.com',\n '28,Male,Kizzy Brenner,MVC,7572603,60,Nicole Harwood_Sheryll Towler@MVC.com',\n '28,Female,Taryn Brownlee,Cloud,7582853,76,Sebrina Maresca_Annika Hoffman@Cloud.com',\n '28,Male,Melani Engberg,Cloud,7591331,83,Billi Clore_Neda Briski@DSA.com',\n '28,Male,Michelle Ruggiero,OOP,7601079,82,Jenna Montague_Donna Yerby@DSA.com',\n '29,Female,Anna Santos,DSA,7611959,37,Gonzalo Ferebee_Claude Panos@DB.com',\n '29,Female,Kena Wild,DSA,7621891,69,Marylee Capasso_Marylee Capasso@DSA.com',\n '29,Male,Lawanda Wohlwend,MVC,7631030,57,Mitzi Seldon_Sebrina Maresca@OOP.com',\n '29,Male,Santa Kerfien,MVC,7642624,97,Santa Kerfien_Elenore Choy@Cloud.com',\n '29,Female,Paris Hutton,MVC,7652057,67,Michelle Ruggiero_Anna Santos@PF.com',\n '29,Male,Taryn Brownlee,MVC,7662789,60,Elenore Choy_Anna Santos@OOP.com',\n '28,Male,Bonita Higuera,Cloud,7671835,21,Taryn Brownlee_Sebrina Maresca@PF.com',\n '28,Female,Judie Chipps,DB,7682333,81,Toshiko Hillyard_Claude Panos@DB.com',\n '29,Female,Celeste Lollis,Cloud,7691188,82,Mitzi Seldon_Jenna Montague@PF.com',\n '28,Male,Mickey Cortright,DB,7702338,69,Latia Vanhoose_Jeannetta Golden@OOP.com',\n '28,Female,Billi Clore,DB,7711330,64,Maybell Duguay_Ernest Rossbach@Cloud.com',\n '29,Male,Latia Vanhoose,Cloud,7721956,45,Jalisa Swenson_Annika Hoffman@DB.com',\n '29,Male,Sebrina Maresca,PF,7731207,69,Leontine Phillips_Kena Wild@DSA.com',\n '28,Male,Latia Vanhoose,OOP,7741757,66,Loris Crossett_Naoma Fritts@DSA.com',\n '28,Male,Anna Santos,DSA,7752196,92,Latia Vanhoose_Tamera Blakley@OOP.com',\n '29,Female,Margene Moores,PF,7761927,32,Annika Hoffman_Taryn Brownlee@OOP.com',\n '29,Female,Judie Chipps,DSA,7772671,51,Jenna Montague_Dustin Feagins@DB.com',\n '28,Female,Kena Wild,MVC,7781364,75,Claude Panos_Sebrina Maresca@DB.com',\n '28,Male,Latia Vanhoose,DSA,7792270,37,Eda Neathery_Donna Yerby@DSA.com',\n '29,Female,Cordie Harnois,Cloud,7801136,57,Nicole Harwood_Neda Briski@DSA.com',\n '29,Male,Niki Klimek,DSA,7811347,42,Kena Wild_Maybell Duguay@DB.com',\n '29,Female,Jalisa Swenson,Cloud,7821333,85,Priscila Tavernier_Clementina Menke@PF.com',\n '28,Female,Marylee Capasso,Cloud,7831780,73,Ernest Rossbach_Michelle Ruggiero@DB.com',\n '28,Female,Sebrina Maresca,PF,7841496,32,Alberta Freund_Mitzi Seldon@PF.com',\n '29,Male,Niki Klimek,PF,7852889,48,Taryn Brownlee_Elenore Choy@PF.com',\n '29,Male,Kena Wild,PF,7862418,56,Clementina Menke_Jalisa Swenson@DB.com',\n '29,Male,Clementina Menke,DB,7872434,68,Jalisa Swenson_Alberta Freund@OOP.com',\n '28,Male,Taryn Brownlee,Cloud,7881046,81,Eda Neathery_Dustin Feagins@MVC.com',\n '29,Male,Alberta Freund,DSA,7891322,86,Maybell Duguay_Loris Crossett@PF.com',\n '28,Male,Tamera Blakley,PF,7901879,57,Taryn Brownlee_Gonzalo Ferebee@PF.com',\n '29,Female,Toshiko Hillyard,MVC,7912392,38,Kena Wild_Alberta Freund@Cloud.com',\n '28,Male,Marylee Capasso,Cloud,7922051,92,Sebrina Maresca_Dustin Feagins@OOP.com',\n '29,Female,Margene Moores,MVC,7932894,78,Mickey Cortright_Niki Klimek@OOP.com',\n '29,Male,Celeste Lollis,MVC,7941313,89,Eda Neathery_Neda Briski@OOP.com',\n '29,Male,Santa Kerfien,PF,7951241,31,Kena Wild_Niki Klimek@OOP.com',\n '29,Male,Leontine Phillips,Cloud,7961043,26,Paris Hutton_Marylee Capasso@MVC.com',\n '28,Male,Michelle Ruggiero,Cloud,7972167,69,Paris Hutton_Leontine Phillips@DB.com',\n '28,Male,Margene Moores,MVC,7982164,84,Neda Briski_Celeste Lollis@Cloud.com',\n '29,Male,Billi Clore,DB,7992784,58,Tamera Blakley_Dustin Feagins@MVC.com',\n '29,Male,Ernest Rossbach,DB,8002285,76,Marylee Capasso_Naoma Fritts@DSA.com',\n '28,Male,Santa Kerfien,OOP,8011750,47,Mitzi Seldon_Somer Stoecker@PF.com',\n '29,Male,Jc Andrepont,OOP,8022618,97,Cordie Harnois_Jalisa Swenson@OOP.com',\n '29,Female,Mickey Cortright,DB,8031057,66,Dustin Feagins_Tijuana Kropf@DB.com',\n '29,Female,Eda Neathery,DSA,8042646,55,Abram Nagao_Donna Yerby@DB.com',\n '28,Male,Jeannetta Golden,PF,8052474,38,Tamera Blakley_Sheryll Towler@DSA.com',\n '29,Female,Lawanda Wohlwend,DSA,8061577,27,Anna Santos_Elenore Choy@MVC.com',\n '28,Male,Cheri Kenney,Cloud,8071605,72,Maybell Duguay_Eda Neathery@MVC.com',\n '29,Male,Celeste Lollis,MVC,8081881,87,Jenna Montague_Dustin Feagins@MVC.com',\n '28,Male,Sebrina Maresca,DB,8092398,42,Claude Panos_Jc Andrepont@DB.com',\n '28,Male,Bonita Higuera,Cloud,8101902,84,Jc Andrepont_Neda Briski@OOP.com',\n '29,Male,Loris Crossett,PF,8111334,31,Jeannetta Golden_Mickey Cortright@DSA.com',\n '29,Female,Nicole Harwood,PF,8121198,21,Bonita Higuera_Priscila Tavernier@Cloud.com',\n '28,Female,Somer Stoecker,PF,8131896,40,Melani Engberg_Sheryll Towler@DSA.com',\n '28,Male,Elenore Choy,OOP,8141533,28,Anna Santos_Dustin Feagins@MVC.com',\n '28,Male,Annika Hoffman,MVC,8152949,62,Annika Hoffman_Naoma Fritts@MVC.com',\n '29,Male,Leontine Phillips,Cloud,8162392,23,Clementina Menke_Neda Briski@Cloud.com',\n '28,Male,Loris Crossett,OOP,8172914,98,Paris Hutton_Paris Hutton@OOP.com',\n '28,Female,Nicole Harwood,DB,8181552,37,Hubert Oliveras_Gonzalo Ferebee@Cloud.com',\n '29,Male,Hubert Oliveras,Cloud,8191045,29,Toshiko Hillyard_Leontine Phillips@DSA.com',\n '29,Male,Eda Neathery,MVC,8202489,30,Jc Andrepont_Maybell Duguay@PF.com',\n '28,Female,Leontine Phillips,OOP,8212555,51,Jenna Montague_Cheri Kenney@Cloud.com',\n '29,Male,Melani Engberg,PF,8222832,44,Niki Klimek_Billi Clore@PF.com',\n '29,Male,Loris Crossett,DSA,8232415,77,Priscila Tavernier_Kena Wild@DB.com',\n '28,Male,Jeannetta Golden,Cloud,8242650,62,Dustin Feagins_Annika Hoffman@OOP.com',\n '28,Female,Clementina Menke,OOP,8251736,48,Tamera Blakley_Loris Crossett@OOP.com',\n '29,Female,Ernest Rossbach,DSA,8262618,34,Billi Clore_Clementina Menke@Cloud.com',\n '28,Female,Sheryll Towler,DB,8271000,37,Neda Briski_Anna Santos@Cloud.com',\n '29,Male,Billi Clore,OOP,8282116,72,Elenore Choy_Clementina Menke@PF.com',\n '28,Male,Bonita Higuera,MVC,8291218,71,Jeannetta Golden_Sebrina Maresca@PF.com',\n '29,Female,Tamera Blakley,OOP,8301646,63,Abram Nagao_Mitzi Seldon@DB.com',\n '28,Female,Judie Chipps,DSA,8312884,88,Kena Wild_Clementina Menke@DB.com',\n '28,Male,Paris Hutton,PF,8321357,77,Abram Nagao_Tamera Blakley@OOP.com',\n '29,Male,Kena Wild,PF,8331264,46,Marylee Capasso_Celeste Lollis@DSA.com',\n '29,Female,Elenore Choy,DSA,8342105,41,Abram Nagao_Nicole Harwood@Cloud.com',\n '29,Female,Gonzalo Ferebee,Cloud,8352347,69,Neda Briski_Ernest Rossbach@Cloud.com',\n '28,Male,Dustin Feagins,MVC,8361501,53,Billi Clore_Kizzy Brenner@MVC.com',\n '28,Male,Clementina Menke,Cloud,8372528,43,Tamera Blakley_Somer Stoecker@MVC.com',\n '28,Male,Priscila Tavernier,OOP,8382954,93,Jeannetta Golden_Kizzy Brenner@Cloud.com',\n '29,Female,Gonzalo Ferebee,MVC,8392287,81,Santa Kerfien_Neda Briski@OOP.com',\n '28,Female,Paris Hutton,PF,8401106,51,Maybell Duguay_Michelle Ruggiero@DB.com',\n '28,Male,Mickey Cortright,DB,8411430,70,Hubert Oliveras_Ernest Rossbach@PF.com',\n '28,Female,Bonita Higuera,DSA,8421653,96,Annika Hoffman_Bonita Higuera@Cloud.com',\n '28,Female,Taryn Brownlee,OOP,8431353,63,Neda Briski_Cordie Harnois@Cloud.com',\n '28,Female,Eda Neathery,DSA,8441503,78,Jalisa Swenson_Mitzi Seldon@MVC.com',\n '29,Female,Cordie Harnois,OOP,8452121,84,Kena Wild_Dustin Feagins@DB.com',\n '29,Female,Mickey Cortright,OOP,8462156,77,Elenore Choy_Tijuana Kropf@Cloud.com',\n '28,Male,Kena Wild,DB,8471833,36,Tamera Blakley_Jeannetta Golden@OOP.com',\n '28,Male,Anna Santos,MVC,8482305,53,Sheryll Towler_Kizzy Brenner@PF.com',\n '28,Female,Ernest Rossbach,DSA,8492768,61,Jenna Montague_Elenore Choy@DSA.com',\n '29,Female,Annika Hoffman,MVC,8502572,71,Sebrina Maresca_Jeannetta Golden@Cloud.com',\n '29,Female,Mickey Cortright,OOP,8511805,47,Latia Vanhoose_Somer Stoecker@OOP.com',\n '28,Male,Tijuana Kropf,DB,8522175,87,Mickey Cortright_Claude Panos@MVC.com',\n '28,Female,Elenore Choy,MVC,8532574,76,Tijuana Kropf_Loris Crossett@Cloud.com',\n '28,Male,Loris Crossett,MVC,8541796,90,Clementina Menke_Michelle Ruggiero@Cloud.com',\n '28,Female,Leontine Phillips,MVC,8551036,31,Celeste Lollis_Anna Santos@MVC.com',\n '29,Female,Dustin Feagins,DB,8561099,32,Margene Moores_Margene Moores@Cloud.com',\n '28,Male,Anna Santos,Cloud,8571411,94,Jc Andrepont_Cordie Harnois@OOP.com',\n '29,Female,Loris Crossett,DSA,8581552,86,Taryn Brownlee_Elenore Choy@Cloud.com',\n '29,Male,Cordie Harnois,MVC,8592355,95,Ernest Rossbach_Tijuana Kropf@OOP.com',\n '29,Female,Taryn Brownlee,OOP,8602786,40,Elenore Choy_Ernest Rossbach@DB.com',\n '28,Male,Naoma Fritts,DB,8611528,89,Nicole Harwood_Clementina Menke@MVC.com',\n '29,Male,Marylee Capasso,Cloud,8622148,29,Hubert Oliveras_Claude Panos@Cloud.com',\n '29,Female,Clementina Menke,PF,8632774,33,Dustin Feagins_Latia Vanhoose@PF.com',\n '29,Female,Sheryll Towler,Cloud,8641804,31,Somer Stoecker_Marylee Capasso@PF.com',\n '29,Male,Cheri Kenney,DB,8652382,36,Santa Kerfien_Cordie Harnois@Cloud.com',\n '28,Female,Loris Crossett,OOP,8661474,72,Neda Briski_Jeannetta Golden@DB.com',\n '29,Male,Alberta Freund,Cloud,8671926,85,Paris Hutton_Somer Stoecker@PF.com',\n '28,Male,Neda Briski,OOP,8681708,34,Jenna Montague_Lawanda Wohlwend@OOP.com',\n '28,Male,Nicole Harwood,MVC,8692811,63,Neda Briski_Kena Wild@Cloud.com',\n '29,Male,Donna Yerby,DB,8701973,33,Priscila Tavernier_Mitzi Seldon@DB.com',\n '28,Female,Melani Engberg,DSA,8712604,69,Celeste Lollis_Claude Panos@MVC.com',\n '29,Female,Neda Briski,DB,8722464,30,Mickey Cortright_Anna Santos@OOP.com',\n '28,Female,Somer Stoecker,OOP,8732476,65,Annika Hoffman_Anna Santos@DB.com',\n '29,Male,Maybell Duguay,PF,8741191,79,Judie Chipps_Niki Klimek@OOP.com',\n '29,Male,Cheri Kenney,MVC,8752460,84,Cordie Harnois_Jeannetta Golden@PF.com',\n '29,Male,Celeste Lollis,MVC,8762292,35,Clementina Menke_Tijuana Kropf@DB.com',\n '29,Female,Annika Hoffman,OOP,8772154,79,Tijuana Kropf_Cordie Harnois@DSA.com',\n '29,Male,Niki Klimek,Cloud,8782036,72,Clementina Menke_Taryn Brownlee@MVC.com',\n '29,Male,Billi Clore,MVC,8792432,79,Anna Santos_Jalisa Swenson@Cloud.com',\n '28,Female,Toshiko Hillyard,MVC,8801160,86,Neda Briski_Donna Yerby@DB.com',\n '29,Male,Mitzi Seldon,DB,8811681,46,Ernest Rossbach_Eda Neathery@MVC.com',\n '28,Male,Tijuana Kropf,Cloud,8822597,31,Lawanda Wohlwend_Eda Neathery@MVC.com',\n '28,Female,Nicole Harwood,MVC,8831173,27,Gonzalo Ferebee_Dustin Feagins@OOP.com',\n '29,Female,Claude Panos,OOP,8842014,30,Annika Hoffman_Jenna Montague@Cloud.com',\n '28,Male,Annika Hoffman,Cloud,8852570,82,Kizzy Brenner_Claude Panos@MVC.com',\n '28,Female,Nicole Harwood,Cloud,8862840,67,Claude Panos_Claude Panos@DSA.com',\n '28,Male,Dustin Feagins,DB,8871049,98,Jenna Montague_Claude Panos@DSA.com',\n '29,Male,Nicole Harwood,MVC,8882981,32,Santa Kerfien_Eda Neathery@OOP.com',\n '29,Male,Marylee Capasso,OOP,8891960,29,Mickey Cortright_Billi Clore@PF.com',\n '28,Male,Somer Stoecker,DSA,8902098,73,Nicole Harwood_Paris Hutton@PF.com',\n '28,Male,Celeste Lollis,PF,8911713,93,Hubert Oliveras_Mitzi Seldon@DB.com',\n '28,Male,Mitzi Seldon,Cloud,8922149,65,Maybell Duguay_Hubert Oliveras@PF.com',\n '28,Male,Billi Clore,OOP,8932725,59,Kizzy Brenner_Latia Vanhoose@PF.com',\n '29,Female,Gonzalo Ferebee,Cloud,8942812,87,Michelle Ruggiero_Neda Briski@Cloud.com',\n '29,Female,Annika Hoffman,DSA,8951068,94,Neda Briski_Abram Nagao@OOP.com',\n '28,Female,Leontine Phillips,Cloud,8962531,84,Tamera Blakley_Marylee Capasso@Cloud.com',\n '28,Male,Ernest Rossbach,MVC,8972546,62,Sheryll Towler_Jeannetta Golden@PF.com',\n '28,Male,Kizzy Brenner,OOP,8981887,27,Naoma Fritts_Mitzi Seldon@DB.com',\n '28,Male,Elenore Choy,DSA,8991321,57,Celeste Lollis_Margene Moores@DB.com',\n '29,Male,Santa Kerfien,DSA,9002004,27,Jeannetta Golden_Clementina Menke@MVC.com',\n '28,Female,Lawanda Wohlwend,OOP,9011862,48,Jalisa Swenson_Gonzalo Ferebee@OOP.com',\n '29,Male,Elenore Choy,DB,9021601,46,Clementina Menke_Mickey Cortright@PF.com',\n '28,Male,Alberta Freund,DSA,9031966,56,Niki Klimek_Alberta Freund@PF.com',\n '29,Male,Celeste Lollis,Cloud,9042870,52,Bonita Higuera_Jeannetta Golden@PF.com',\n '29,Male,Sheryll Towler,MVC,9052132,88,Jeannetta Golden_Donna Yerby@DB.com',\n '29,Female,Jalisa Swenson,DSA,9061384,41,Jenna Montague_Melani Engberg@DSA.com',\n '29,Male,Celeste Lollis,Cloud,9072506,81,Celeste Lollis_Cordie Harnois@Cloud.com',\n '29,Female,Ernest Rossbach,Cloud,9082371,79,Jalisa Swenson_Mitzi Seldon@DB.com',\n '29,Female,Annika Hoffman,OOP,9091099,89,Kizzy Brenner_Jeannetta Golden@MVC.com',\n '29,Male,Gonzalo Ferebee,Cloud,9102078,45,Tamera Blakley_Melani Engberg@MVC.com',\n '29,Female,Marylee Capasso,DSA,9112909,38,Priscila Tavernier_Hubert Oliveras@Cloud.com',\n '29,Female,Lawanda Wohlwend,DSA,9122250,46,Jeannetta Golden_Sheryll Towler@DB.com',\n '29,Female,Judie Chipps,MVC,9131672,35,Tijuana Kropf_Taryn Brownlee@DSA.com',\n '28,Female,Taryn Brownlee,MVC,9142398,59,Lawanda Wohlwend_Billi Clore@Cloud.com',\n '28,Male,Billi Clore,DB,9151306,21,Latia Vanhoose_Ernest Rossbach@DB.com',\n '28,Female,Nicole Harwood,PF,9162701,61,Jc Andrepont_Jeannetta Golden@Cloud.com',\n '28,Male,Claude Panos,OOP,9172978,60,Cordie Harnois_Tamera Blakley@DSA.com',\n '28,Male,Cheri Kenney,DSA,9181598,44,Jc Andrepont_Maybell Duguay@OOP.com',\n '29,Female,Melani Engberg,DB,9192452,52,Niki Klimek_Niki Klimek@OOP.com',\n '29,Male,Ernest Rossbach,MVC,9201305,53,Gonzalo Ferebee_Billi Clore@DB.com',\n '28,Female,Cheri Kenney,PF,9211167,30,Mitzi Seldon_Somer Stoecker@PF.com',\n '29,Female,Eda Neathery,PF,9222608,99,Kena Wild_Lawanda Wohlwend@OOP.com',\n '29,Female,Michelle Ruggiero,DB,9232210,20,Donna Yerby_Latia Vanhoose@DB.com',\n '29,Male,Cordie Harnois,DSA,9242198,72,Maybell Duguay_Tamera Blakley@Cloud.com',\n '29,Female,Melani Engberg,DSA,9252365,97,Naoma Fritts_Melani Engberg@OOP.com',\n '28,Female,Taryn Brownlee,OOP,9262265,43,Cordie Harnois_Elenore Choy@DB.com',\n '28,Female,Jalisa Swenson,Cloud,9272149,39,Gonzalo Ferebee_Nicole Harwood@MVC.com',\n '29,Female,Jalisa Swenson,DB,9282374,33,Judie Chipps_Annika Hoffman@OOP.com',\n '29,Male,Mickey Cortright,Cloud,9291579,86,Margene Moores_Priscila Tavernier@MVC.com',\n '29,Male,Gonzalo Ferebee,Cloud,9302691,40,Niki Klimek_Alberta Freund@MVC.com',\n '29,Male,Niki Klimek,DSA,9311407,90,Marylee Capasso_Ernest Rossbach@PF.com',\n '28,Female,Cheri Kenney,DSA,9322391,71,Cheri Kenney_Claude Panos@OOP.com',\n '29,Male,Gonzalo Ferebee,PF,9331055,96,Kizzy Brenner_Alberta Freund@Cloud.com',\n '28,Female,Clementina Menke,DSA,9342400,37,Claude Panos_Ernest Rossbach@DSA.com',\n '29,Female,Michelle Ruggiero,DSA,9352759,97,Kena Wild_Nicole Harwood@DSA.com',\n '28,Male,Mitzi Seldon,PF,9362744,26,Somer Stoecker_Santa Kerfien@DSA.com',\n '29,Female,Ernest Rossbach,DB,9371629,96,Melani Engberg_Latia Vanhoose@PF.com',\n '28,Female,Paris Hutton,OOP,9382928,28,Kena Wild_Gonzalo Ferebee@PF.com',\n '28,Female,Jc Andrepont,Cloud,9391046,34,Latia Vanhoose_Taryn Brownlee@MVC.com',\n '28,Female,Kena Wild,MVC,9401194,24,Niki Klimek_Michelle Ruggiero@DB.com',\n '28,Male,Jenna Montague,DB,9411416,35,Latia Vanhoose_Paris Hutton@DSA.com',\n '29,Female,Abram Nagao,Cloud,9422898,38,Cheri Kenney_Santa Kerfien@OOP.com',\n '29,Female,Tijuana Kropf,Cloud,9431799,88,Lawanda Wohlwend_Cordie Harnois@MVC.com',\n '28,Male,Latia Vanhoose,DSA,9442974,29,Jc Andrepont_Celeste Lollis@DB.com',\n '28,Female,Judie Chipps,DB,9451237,49,Michelle Ruggiero_Sheryll Towler@MVC.com',\n '29,Female,Gonzalo Ferebee,MVC,9461441,31,Michelle Ruggiero_Elenore Choy@DSA.com',\n '28,Female,Latia Vanhoose,Cloud,9471888,56,Naoma Fritts_Kena Wild@DB.com',\n '29,Female,Annika Hoffman,OOP,9482135,96,Somer Stoecker_Somer Stoecker@OOP.com',\n '28,Male,Sebrina Maresca,PF,9492805,50,Neda Briski_Neda Briski@OOP.com',\n '28,Male,Toshiko Hillyard,DB,9502901,69,Kena Wild_Leontine Phillips@DSA.com',\n '29,Male,Kizzy Brenner,PF,9512850,52,Elenore Choy_Anna Santos@DB.com',\n '28,Female,Jalisa Swenson,OOP,9522521,50,Leontine Phillips_Cheri Kenney@DB.com',\n '29,Male,Celeste Lollis,Cloud,9531936,56,Cheri Kenney_Margene Moores@MVC.com',\n '29,Female,Mickey Cortright,MVC,9542973,28,Sebrina Maresca_Eda Neathery@MVC.com',\n '29,Male,Taryn Brownlee,PF,9551574,91,Jenna Montague_Billi Clore@MVC.com',\n '29,Male,Maybell Duguay,DB,9562208,44,Celeste Lollis_Anna Santos@DSA.com',\n '28,Female,Sheryll Towler,MVC,9571308,57,Margene Moores_Naoma Fritts@PF.com',\n '28,Female,Naoma Fritts,MVC,9581172,70,Taryn Brownlee_Cheri Kenney@Cloud.com',\n '29,Female,Annika Hoffman,OOP,9592635,40,Kena Wild_Margene Moores@Cloud.com',\n '28,Male,Melani Engberg,DB,9602880,42,Niki Klimek_Mickey Cortright@DB.com',\n '29,Male,Kena Wild,MVC,9611287,76,Cordie Harnois_Michelle Ruggiero@PF.com',\n '28,Female,Leontine Phillips,DB,9622410,46,Kena Wild_Donna Yerby@Cloud.com',\n '28,Male,Claude Panos,Cloud,9631836,73,Clementina Menke_Judie Chipps@DSA.com',\n '29,Male,Celeste Lollis,DSA,9642293,75,Maybell Duguay_Tijuana Kropf@OOP.com',\n '28,Male,Jc Andrepont,MVC,9652535,73,Michelle Ruggiero_Lawanda Wohlwend@DB.com',\n '29,Male,Kena Wild,DSA,9662661,41,Latia Vanhoose_Sebrina Maresca@DB.com',\n '29,Male,Leontine Phillips,DB,9671707,26,Sebrina Maresca_Jalisa Swenson@MVC.com',\n '28,Female,Clementina Menke,DSA,9682190,24,Clementina Menke_Dustin Feagins@DB.com',\n '28,Male,Loris Crossett,OOP,9692316,99,Judie Chipps_Michelle Ruggiero@Cloud.com',\n '29,Male,Paris Hutton,DSA,9702829,22,Hubert Oliveras_Cheri Kenney@OOP.com',\n '29,Female,Abram Nagao,PF,9711154,23,Judie Chipps_Naoma Fritts@DSA.com',\n '28,Female,Niki Klimek,MVC,9722763,77,Taryn Brownlee_Jalisa Swenson@OOP.com',\n '29,Male,Neda Briski,Cloud,9732604,77,Kena Wild_Hubert Oliveras@Cloud.com',\n '29,Female,Mickey Cortright,Cloud,9741291,77,Melani Engberg_Donna Yerby@MVC.com',\n '28,Female,Somer Stoecker,PF,9751163,36,Nicole Harwood_Margene Moores@MVC.com',\n '28,Female,Loris Crossett,OOP,9761188,39,Alberta Freund_Bonita Higuera@DSA.com',\n '28,Male,Anna Santos,DB,9772185,22,Kizzy Brenner_Annika Hoffman@PF.com',\n '28,Female,Celeste Lollis,DB,9782472,44,Kena Wild_Hubert Oliveras@DSA.com',\n '29,Female,Toshiko Hillyard,DSA,9792504,68,Nicole Harwood_Somer Stoecker@DB.com',\n '29,Male,Donna Yerby,MVC,9802357,41,Tamera Blakley_Jalisa Swenson@MVC.com',\n '29,Male,Santa Kerfien,DB,9811489,31,Abram Nagao_Melani Engberg@Cloud.com',\n '29,Male,Hubert Oliveras,DB,9822797,51,Lawanda Wohlwend_Jalisa Swenson@DB.com',\n '28,Male,Paris Hutton,DB,9832215,36,Niki Klimek_Tijuana Kropf@PF.com',\n '29,Male,Mitzi Seldon,PF,9842669,30,Jalisa Swenson_Sebrina Maresca@MVC.com',\n '28,Female,Donna Yerby,OOP,9851840,63,Ernest Rossbach_Mitzi Seldon@Cloud.com',\n '29,Female,Marylee Capasso,DB,9862444,60,Bonita Higuera_Kena Wild@OOP.com',\n '29,Female,Annika Hoffman,PF,9871120,84,Ernest Rossbach_Billi Clore@MVC.com',\n '28,Male,Sheryll Towler,MVC,9881953,76,Ernest Rossbach_Santa Kerfien@DB.com',\n '28,Male,Kena Wild,DSA,9891274,85,Donna Yerby_Leontine Phillips@Cloud.com',\n '29,Male,Tijuana Kropf,DB,9902560,66,Tijuana Kropf_Abram Nagao@Cloud.com',\n '28,Male,Neda Briski,PF,9912790,65,Hubert Oliveras_Taryn Brownlee@PF.com',\n '29,Female,Marylee Capasso,OOP,9922554,50,Naoma Fritts_Paris Hutton@DSA.com',\n '29,Male,Cordie Harnois,PF,9931081,97,Toshiko Hillyard_Abram Nagao@Cloud.com',\n '29,Female,Anna Santos,Cloud,9942543,87,Somer Stoecker_Mickey Cortright@DB.com',\n '28,Female,Celeste Lollis,DB,9952416,59,Gonzalo Ferebee_Jalisa Swenson@DB.com',\n '29,Female,Somer Stoecker,Cloud,9962277,84,Clementina Menke_Paris Hutton@OOP.com',\n '28,Male,Tamera Blakley,DSA,9971217,26,Anna Santos_Claude Panos@PF.com',\n '28,Female,Tamera Blakley,MVC,9982779,71,Toshiko Hillyard_Anna Santos@DSA.com',\n ...]"
     ]
    }
   ],
   "source": [
    "strdd.collect()"
   ]
  },
  {
   "cell_type": "code",
   "execution_count": 0,
   "metadata": {
    "application/vnd.databricks.v1+cell": {
     "cellMetadata": {},
     "inputWidgets": {},
     "nuid": "8cb36a2f-d227-4851-bc43-416e575f5655",
     "showTitle": false,
     "title": ""
    }
   },
   "outputs": [],
   "source": [
    "k=strdd.first()"
   ]
  },
  {
   "cell_type": "code",
   "execution_count": 0,
   "metadata": {
    "application/vnd.databricks.v1+cell": {
     "cellMetadata": {},
     "inputWidgets": {},
     "nuid": "45c74b59-3a42-4016-8d94-9b45cc5c5e3a",
     "showTitle": false,
     "title": ""
    }
   },
   "outputs": [],
   "source": [
    "str1=strdd.filter(lambda x: x!=k)"
   ]
  },
  {
   "cell_type": "code",
   "execution_count": 0,
   "metadata": {
    "application/vnd.databricks.v1+cell": {
     "cellMetadata": {},
     "inputWidgets": {},
     "nuid": "77ec6189-491d-40c8-92eb-965e2c209797",
     "showTitle": false,
     "title": ""
    }
   },
   "outputs": [
    {
     "output_type": "stream",
     "name": "stdout",
     "output_type": "stream",
     "text": [
      "Out[51]: 1000"
     ]
    }
   ],
   "source": [
    "#No.of_students \n",
    "str1.count()"
   ]
  },
  {
   "cell_type": "code",
   "execution_count": 0,
   "metadata": {
    "application/vnd.databricks.v1+cell": {
     "cellMetadata": {},
     "inputWidgets": {},
     "nuid": "b7baad0d-9d14-45ec-bf72-5455c39dbc55",
     "showTitle": false,
     "title": ""
    }
   },
   "outputs": [
    {
     "output_type": "stream",
     "name": "stdout",
     "output_type": "stream",
     "text": [
      "Out[54]: [('Female', 29636), ('Male', 30461)]"
     ]
    }
   ],
   "source": [
    "#Total marks achieved by male and female students\n",
    "\n",
    "str1.map(lambda x:x.split(',')).map(lambda x: (x[1],int(x[-2]))).reduceByKey(lambda x,y:x+y).collect()"
   ]
  },
  {
   "cell_type": "code",
   "execution_count": 0,
   "metadata": {
    "application/vnd.databricks.v1+cell": {
     "cellMetadata": {},
     "inputWidgets": {},
     "nuid": "a155b990-d516-405c-9a8a-d9a5ccb8a804",
     "showTitle": false,
     "title": ""
    }
   },
   "outputs": [
    {
     "output_type": "stream",
     "name": "stdout",
     "output_type": "stream",
     "text": [
      "370 630\n"
     ]
    }
   ],
   "source": [
    "#Total Number of students passed and failed\n",
    "No_of_student_passed=str1.map(lambda x:x.split(',')).filter(lambda x:int(x[-2])>50).count()\n",
    "No_of_student_failed=str1.map(lambda x:x.split(',')).filter(lambda x:int(x[-2])<=50).count()\n",
    "print(No_of_student_failed,No_of_student_passed)\n"
   ]
  },
  {
   "cell_type": "code",
   "execution_count": 0,
   "metadata": {
    "application/vnd.databricks.v1+cell": {
     "cellMetadata": {},
     "inputWidgets": {},
     "nuid": "54f2958c-7b8b-4de3-82cc-d7ab288f951d",
     "showTitle": false,
     "title": ""
    }
   },
   "outputs": [
    {
     "output_type": "stream",
     "name": "stdout",
     "output_type": "stream",
     "text": [
      "Out[64]: [('DB', 157),\n ('Cloud', 192),\n ('PF', 166),\n ('MVC', 157),\n ('OOP', 152),\n ('DSA', 176)]"
     ]
    }
   ],
   "source": [
    "#Total No.of Students entrolled per course\n",
    "str1.map(lambda x:x.split(',')).map(lambda x:(x[3],1)).reduceByKey(lambda x,y:x+y).collect()"
   ]
  },
  {
   "cell_type": "code",
   "execution_count": 0,
   "metadata": {
    "application/vnd.databricks.v1+cell": {
     "cellMetadata": {},
     "inputWidgets": {},
     "nuid": "85dc3dcf-4ba4-4b79-a1c5-d4c366d7e3f9",
     "showTitle": false,
     "title": ""
    }
   },
   "outputs": [
    {
     "output_type": "stream",
     "name": "stdout",
     "output_type": "stream",
     "text": [
      "Out[71]: [('DB', 9270),\n ('Cloud', 11443),\n ('PF', 9933),\n ('MVC', 9585),\n ('OOP', 8916),\n ('DSA', 10950)]"
     ]
    }
   ],
   "source": [
    "#Total mark students achieved per course\n",
    "str1.map(lambda x:x.split(',')).map(lambda x:(x[3],int(x[-2]))).groupByKey().mapValues(list).map(lambda x: (x[0],sum(x[1]))).collect()"
   ]
  },
  {
   "cell_type": "code",
   "execution_count": 0,
   "metadata": {
    "application/vnd.databricks.v1+cell": {
     "cellMetadata": {},
     "inputWidgets": {},
     "nuid": "dfb41125-3e27-4310-8269-298832847915",
     "showTitle": false,
     "title": ""
    }
   },
   "outputs": [
    {
     "output_type": "stream",
     "name": "stdout",
     "output_type": "stream",
     "text": [
      "Out[74]: [('DB', 59.044585987261144),\n ('Cloud', 59.598958333333336),\n ('PF', 59.83734939759036),\n ('MVC', 61.05095541401274),\n ('OOP', 58.6578947368421),\n ('DSA', 62.21590909090909)]"
     ]
    }
   ],
   "source": [
    "#Average mark student achived per course\n",
    "str1.map(lambda x:x.split(',')).map(lambda x:(x[3],int(x[-2]))).groupByKey().mapValues(list).map(lambda x:(x[0],sum(x[1])/len(x[1]))).collect()"
   ]
  },
  {
   "cell_type": "code",
   "execution_count": 0,
   "metadata": {
    "application/vnd.databricks.v1+cell": {
     "cellMetadata": {},
     "inputWidgets": {},
     "nuid": "56ea4361-af57-44f9-ae48-e027cd13febb",
     "showTitle": false,
     "title": ""
    }
   },
   "outputs": [
    {
     "output_type": "stream",
     "name": "stdout",
     "output_type": "stream",
     "text": [
      "Out[77]: [('DB', 20), ('Cloud', 20), ('PF', 20), ('MVC', 22), ('OOP', 20), ('DSA', 20)]"
     ]
    }
   ],
   "source": [
    "#Min mark achieved per course\n",
    "str1.map(lambda x:x.split(',')).map(lambda x:(x[3],int(x[-2]))).groupByKey().mapValues(list).map(lambda x:(x[0],min(x[1]))).collect()\n"
   ]
  },
  {
   "cell_type": "code",
   "execution_count": 0,
   "metadata": {
    "application/vnd.databricks.v1+cell": {
     "cellMetadata": {},
     "inputWidgets": {},
     "nuid": "910cbd8a-b17a-4a04-a73b-0959c7a1c128",
     "showTitle": false,
     "title": ""
    }
   },
   "outputs": [
    {
     "output_type": "stream",
     "name": "stdout",
     "output_type": "stream",
     "text": [
      "Out[79]: [('DB', 98), ('Cloud', 99), ('PF', 99), ('MVC', 99), ('OOP', 99), ('DSA', 99)]"
     ]
    }
   ],
   "source": [
    "#Max mark achieved per course\n",
    "str1.map(lambda x:x.split(',')).map(lambda x:(x[3],int(x[-2]))).reduceByKey(lambda x,y: x if x>y else y).collect()\n"
   ]
  },
  {
   "cell_type": "code",
   "execution_count": 0,
   "metadata": {
    "application/vnd.databricks.v1+cell": {
     "cellMetadata": {},
     "inputWidgets": {},
     "nuid": "d9b8de34-5e07-47e2-ba1d-0a75c8a2586f",
     "showTitle": false,
     "title": ""
    }
   },
   "outputs": [
    {
     "output_type": "stream",
     "name": "stdout",
     "output_type": "stream",
     "text": [
      "Out[83]: [('Female', 28.489021956087825), ('Male', 28.52304609218437)]"
     ]
    }
   ],
   "source": [
    "#Average age of male and female student\n",
    "\n",
    "str1.map(lambda x:x.split(',')).map(lambda x:(x[1],int(x[0]))).groupByKey().mapValues(list).map(lambda x:(x[0],sum(x[1])/len(x[1]))).collect()"
   ]
  },
  {
   "cell_type": "code",
   "execution_count": 0,
   "metadata": {
    "application/vnd.databricks.v1+cell": {
     "cellMetadata": {},
     "inputWidgets": {},
     "nuid": "f31c051c-807e-42a9-a302-984b8a70734f",
     "showTitle": false,
     "title": ""
    }
   },
   "outputs": [],
   "source": []
  }
 ],
 "metadata": {
  "application/vnd.databricks.v1+notebook": {
   "dashboards": [],
   "environmentMetadata": null,
   "language": "python",
   "notebookMetadata": {
    "pythonIndentUnit": 2
   },
   "notebookName": "Final_RDD",
   "widgets": {}
  }
 },
 "nbformat": 4,
 "nbformat_minor": 0
}
